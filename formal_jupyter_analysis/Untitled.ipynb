{
 "cells": [
  {
   "cell_type": "code",
   "execution_count": 2,
   "id": "c05de3ce",
   "metadata": {},
   "outputs": [],
   "source": [
    "import os\n",
    "os.chdir('../')\n",
    "import sys\n",
    "sys.path.append(\"./subjects/\")"
   ]
  },
  {
   "cell_type": "code",
   "execution_count": 5,
   "id": "8e5f07c6",
   "metadata": {},
   "outputs": [
    {
     "name": "stdout",
     "output_type": "stream",
     "text": [
      "Each columns's correlation with sex: [ 0.08762275 -0.06577704  0.02684032  0.03427509 -0.38004329 -0.07031842\n",
      " -0.16973733 -0.11736268  1.          0.04824349  0.04541514  0.22930915\n",
      "  0.01338402]\n"
     ]
    },
    {
     "data": {
      "text/plain": [
       "Text(0, 0.5, 'Correlation')"
      ]
     },
     "execution_count": 5,
     "metadata": {},
     "output_type": "execute_result"
    },
    {
     "data": {
      "image/png": "[encoded data removed]",
      "text/plain": [
       "<Figure size 432x288 with 1 Axes>"
      ]
     },
     "metadata": {
      "needs_background": "light"
     },
     "output_type": "display_data"
    }
   ],
   "source": [
    "model = \"LR\" # Does not change the data at all\n",
    "dataset = \"census\"\n",
    "sensitive_name = \"sex\"\n",
    "\n",
    "if dataset == \"census\" and (sensitive_name == \"sex\" or sensitive_name == \"gender\"):\n",
    "    sensitive_param = 9\n",
    "    group_0 = 0  #female\n",
    "    group_1 = 1  #male\n",
    "if dataset == \"census\" and sensitive_name == \"race\":\n",
    "    sensitive_param = 8\n",
    "    group_0 = 0 # white\n",
    "    group_1 = 4 # black\n",
    "if dataset == \"credit\" and (sensitive_name == \"sex\" or sensitive_name == \"gender\"):\n",
    "    sensitive_param = 9\n",
    "    group_0 = 0  # male\n",
    "    group_1 = 1  # female\n",
    "if dataset == \"bank\" and sensitive_name == \"age\":  # with 3,5: 0.89; with 2,5: 0.84; with 4,5: 0.05; with 3,4: 0.6\n",
    "    group_0 = 3\n",
    "    group_1 = 5\n",
    "    sensitive_param = 1\n",
    "if dataset == \"compas\" and (sensitive_name == \"sex\" or sensitive_name == \"gender\"):  # sex\n",
    "    group_0 = 0 # male\n",
    "    group_1 = 1 # female\n",
    "    sensitive_param = 1\n",
    "if dataset == \"compas\" and sensitive_name == \"age\":  # age\n",
    "    group_0 = 0 # under 25\n",
    "    group_1 = 2 # greater than 45\n",
    "    sensitive_param = 2\n",
    "if dataset == \"compas\" and sensitive_name == \"race\":  # race\n",
    "    group_0 = 0 # non-Caucasian\n",
    "    group_1 = 1 # Caucasian\n",
    "    sensitive_param = 3\n",
    "\n",
    "\n",
    "\n",
    "from sklearn.covariance import EmpiricalCovariance\n",
    "import sklearn.decomposition\n",
    "import ast\n",
    "import sys\n",
    "import numpy as np\n",
    "import os\n",
    "from sklearn.model_selection import train_test_split\n",
    "import LogisticRegression\n",
    "from sklearn.preprocessing import StandardScaler\n",
    "\n",
    "import matplotlib.pyplot as plt\n",
    "\n",
    "from adf_data.census import census_data\n",
    "from adf_data.credit import credit_data\n",
    "from adf_data.bank import bank_data\n",
    "from adf_data.compas import compas_data\n",
    "import pandas as pd\n",
    "from matplotlib.pyplot import scatter\n",
    "import matplotlib.pyplot as plt\n",
    "df = pd.read_csv(\"./Dataset\" + \"/\" + f\"{model}_{dataset}_{sensitive_name}_x100.csv\")\n",
    "inp = ast.literal_eval(df[df['AOD'] == df['AOD'].min()].iloc[0][\"inp\"])\n",
    "data = {\"census\":census_data, \"credit\":credit_data, \"bank\":bank_data, \"compas\": compas_data}\n",
    "\n",
    "X, Y, input_shape, nb_classes = data[dataset]()\n",
    "X_transformed = StandardScaler().fit_transform(X) # This turns the \"covariance\" into correlation\n",
    "Y = np.argmax(Y, axis=1)\n",
    "cov = EmpiricalCovariance().fit(X_transformed)\n",
    "print(f\"Each columns's correlation with {sensitive_name}: {cov.covariance_[sensitive_param-1]}\")\n",
    "\n",
    "bars = plt.bar(range(len(cov.covariance_[sensitive_param-1])),cov.covariance_[sensitive_param-1])\n",
    "plt.title(f\"Correlation of each column with {sensitive_name}\")\n",
    "plt.xlabel(f\"Column number\")\n",
    "plt.ylabel(f\"Correlation\")"
   ]
  },
  {
   "cell_type": "code",
   "execution_count": null,
   "id": "9ae934bc",
   "metadata": {},
   "outputs": [],
   "source": []
  }
 ],
 "metadata": {
  "kernelspec": {
   "display_name": "Python 3 (ipykernel)",
   "language": "python",
   "name": "python3"
  },
  "language_info": {
   "codemirror_mode": {
    "name": "ipython",
    "version": 3
   },
   "file_extension": ".py",
   "mimetype": "text/x-python",
   "name": "python",
   "nbconvert_exporter": "python",
   "pygments_lexer": "ipython3",
   "version": "3.9.7"
  }
 },
 "nbformat": 4,
 "nbformat_minor": 5
}
