{
 "cells": [
  {
   "cell_type": "markdown",
   "id": "ca39cd02",
   "metadata": {},
   "source": [
    "## Logistic Regression pareto-optimal"
   ]
  },
  {
   "cell_type": "code",
   "execution_count": 1,
   "id": "b8796075",
   "metadata": {},
   "outputs": [],
   "source": [
    "model = \"LR\"\n",
    "dataset = \"census\"\n",
    "sensitive_param = \"sex\"\n",
    "import pandas as pd\n",
    "import numpy as np\n"
   ]
  },
  {
   "cell_type": "markdown",
   "id": "efa721bd",
   "metadata": {},
   "source": [
    "## Logistic Regression pareto-optimal using 10x max iteration"
   ]
  },
  {
   "cell_type": "code",
   "execution_count": 23,
   "id": "75e1dd28",
   "metadata": {},
   "outputs": [],
   "source": [
    "# Run this for the 10x max_iter\n",
    "df = pd.read_csv(\"../Dataset\" + \"/\" + f\"{model}_{dataset}_{sensitive_param}.csv\")\n",
    "standardized = False\n",
    "num_iter = \"1x\""
   ]
  },
  {
   "cell_type": "code",
   "execution_count": 8,
   "id": "83dbbd7c",
   "metadata": {},
   "outputs": [],
   "source": [
    "# Run this for masking\n",
    "df = pd.read_csv(\"../Dataset\" + \"/\" + f\"{model}_{dataset}_{sensitive_param}_exhaust.csv\")\n",
    "standardized = False\n",
    "num_iter = \"feature masking search\""
   ]
  },
  {
   "cell_type": "code",
   "execution_count": 3,
   "id": "be17a8a0",
   "metadata": {},
   "outputs": [],
   "source": [
    "# Run this for the 10x max_iter\n",
    "df = pd.read_csv(\"../Dataset\" + \"/\" + f\"{model}_{dataset}_{sensitive_param}_x10.csv\")\n",
    "standardized = False\n",
    "num_iter = \"10x\""
   ]
  },
  {
   "cell_type": "code",
   "execution_count": 10,
   "id": "ebb97a45",
   "metadata": {},
   "outputs": [],
   "source": [
    "# Run this for the 100x max_iter\n",
    "df = pd.read_csv(\"../Dataset\" + \"/\" + f\"{model}_{dataset}_{sensitive_param}_x100.csv\")\n",
    "num_iter = \"100x\"\n",
    "standardized = False"
   ]
  },
  {
   "cell_type": "code",
   "execution_count": 26,
   "id": "5b0ca346",
   "metadata": {},
   "outputs": [],
   "source": [
    "# Run this for the 100x max_iter\n",
    "df = pd.read_csv(\"../Dataset\" + \"/\" + f\"{model}_{dataset}_{sensitive_param}_x100_SS.csv\")\n",
    "num_iter = \"100x\"\n",
    "standardized = True"
   ]
  },
  {
   "cell_type": "code",
   "execution_count": 9,
   "id": "bfd67793",
   "metadata": {},
   "outputs": [
    {
     "name": "stdout",
     "output_type": "stream",
     "text": [
      "         score       AOD\n",
      "0     0.812062  0.020201\n",
      "256   0.811940  0.020082\n",
      "419   0.809237  0.009288\n",
      "427   0.809729  0.011818\n",
      "1539  0.756541  0.000000\n",
      "4101  0.811571  0.015590\n",
      "4131  0.809114  0.008395\n",
      "4204  0.812185  0.027003\n",
      "4229  0.811817  0.016969\n",
      "4237  0.810588  0.014318\n",
      "4387  0.809483  0.009299\n",
      "4515  0.808869  0.007445\n",
      "5256  0.797322  0.001876\n",
      "5260  0.796217  0.001763\n",
      "5504  0.796708  0.001852\n",
      "6306  0.799902  0.003889\n",
      "6455  0.794865  0.001548\n",
      "6471  0.816116  0.074351\n",
      "6542  0.802113  0.004828\n",
      "6551  0.794006  0.001092\n",
      "6622  0.789706  0.000454\n",
      "7510  0.788847  0.000120\n",
      "7575  0.793391  0.000907\n"
     ]
    },
    {
     "data": {
      "text/plain": [
       "Text(0.5, 1.0, 'Pareto optimal frontier points_feature masking search_standardized=False')"
      ]
     },
     "execution_count": 9,
     "metadata": {},
     "output_type": "execute_result"
    },
    {
     "data": {
      "image/png": "[encoded data removed]",
      "text/plain": [
       "<Figure size 432x288 with 1 Axes>"
      ]
     },
     "metadata": {
      "needs_background": "light"
     },
     "output_type": "display_data"
    }
   ],
   "source": [
    "# Taken from https://newbedev.com/fast-calculation-of-pareto-front-in-python\n",
    "def is_pareto_efficient(costs, return_mask = True):\n",
    "    \"\"\"\n",
    "    Find the pareto-efficient points\n",
    "    :param costs: An (n_points, n_costs) array\n",
    "    :param return_mask: True to return a mask\n",
    "    :return: An array of indices of pareto-efficient points.\n",
    "        If return_mask is True, this will be an (n_points, ) boolean array\n",
    "        Otherwise it will be a (n_efficient_points, ) integer array of indices.\n",
    "    \"\"\"\n",
    "    is_efficient = np.arange(costs.shape[0])\n",
    "    n_points = costs.shape[0]\n",
    "    next_point_index = 0  # Next index in the is_efficient array to search for\n",
    "    while next_point_index<len(costs):\n",
    "        nondominated_point_mask = np.any(costs<costs[next_point_index], axis=1)\n",
    "        nondominated_point_mask[next_point_index] = True\n",
    "        is_efficient = is_efficient[nondominated_point_mask]  # Remove dominated points\n",
    "        costs = costs[nondominated_point_mask]\n",
    "        next_point_index = np.sum(nondominated_point_mask[:next_point_index])+1\n",
    "    if return_mask:\n",
    "        is_efficient_mask = np.zeros(n_points, dtype = bool)\n",
    "        is_efficient_mask[is_efficient] = True\n",
    "        return is_efficient_mask\n",
    "    else:\n",
    "        return is_efficient\n",
    "from matplotlib.pyplot import scatter, xlabel, ylabel, title\n",
    "scatter(df[\"score\"],df[\"AOD\"], color='blue')\n",
    "\n",
    "\n",
    "df_masking = df.copy()\n",
    "df_masking[\"score\"] = -df_masking[\"score\"] # we want to find maximium for score\n",
    "\n",
    "\n",
    "mask = is_pareto_efficient(df_masking[[\"score\",\"AOD\"]].to_numpy(), True)\n",
    "scatter(df[\"score\"][mask],df[\"AOD\"][mask], color='red')\n",
    "print(f\"{df[['score', 'AOD']][mask]}\")\n",
    "xlabel(\"Accuracy\")\n",
    "ylabel(\"AOD\")\n",
    "title(f\"Pareto optimal frontier points_{num_iter}_standardized={standardized}\")"
   ]
  },
  {
   "cell_type": "code",
   "execution_count": 26,
   "id": "c25ee5ff",
   "metadata": {},
   "outputs": [
    {
     "data": {
      "text/plain": [
       "solver                                                       liblinear\n",
       "penalty                                                             l2\n",
       "dual                                                              True\n",
       "tol                                                           0.304348\n",
       "C                                                            65.265856\n",
       "fit_intercept                                                     True\n",
       "intercept_scaling                                             7.778986\n",
       "max_iteration                                                      105\n",
       "multi_class                                                        ovr\n",
       "l1_ratio                                                           NaN\n",
       "class_weight                                                       NaN\n",
       "random_state                                                      2019\n",
       "verbose                                                              0\n",
       "warm_start                                                       False\n",
       "n_jobs                                                             NaN\n",
       "score                                                         0.511608\n",
       "AOD                                                           0.192569\n",
       "TPR                                                           0.101701\n",
       "FPR                                                           0.283438\n",
       "counter                                                              0\n",
       "timer                                                         0.503599\n",
       "mask                 [False, False, False, False, False, False, Fal...\n",
       "inp                  [2, 1, 1, 0.30434805790648234, 65.265856074953...\n",
       "Name: 0, dtype: object"
      ]
     },
     "execution_count": 26,
     "metadata": {},
     "output_type": "execute_result"
    }
   ],
   "source": [
    "df.iloc[0]"
   ]
  },
  {
   "cell_type": "code",
   "execution_count": null,
   "id": "b6b58f47",
   "metadata": {},
   "outputs": [],
   "source": []
  }
 ],
 "metadata": {
  "kernelspec": {
   "display_name": "Python 3 (ipykernel)",
   "language": "python",
   "name": "python3"
  },
  "language_info": {
   "codemirror_mode": {
    "name": "ipython",
    "version": 3
   },
   "file_extension": ".py",
   "mimetype": "text/x-python",
   "name": "python",
   "nbconvert_exporter": "python",
   "pygments_lexer": "ipython3",
   "version": "3.9.7"
  }
 },
 "nbformat": 4,
 "nbformat_minor": 5
}
