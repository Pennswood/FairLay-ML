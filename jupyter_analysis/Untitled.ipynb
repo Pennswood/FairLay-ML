{
 "cells": [
  {
   "cell_type": "code",
   "execution_count": 3,
   "id": "6478cf7c",
   "metadata": {},
   "outputs": [],
   "source": [
    "import math\n",
    "def feature_mask_list(num, size):\n",
    "    mask = []\n",
    "    while size!=0:\n",
    "        mask.append(num%2 ==1)\n",
    "        num = math.floor(num/2)\n",
    "        size = math.floor(size/2)\n",
    "    return mask"
   ]
  },
  {
   "cell_type": "code",
   "execution_count": 7,
   "id": "0c25cc88",
   "metadata": {},
   "outputs": [
    {
     "data": {
      "text/plain": [
       "[True, True, False, False, False, False, False]"
      ]
     },
     "execution_count": 7,
     "metadata": {},
     "output_type": "execute_result"
    }
   ],
   "source": [
    "feature_mask_list(3, 127)"
   ]
  },
  {
   "cell_type": "code",
   "execution_count": null,
   "id": "263221d3",
   "metadata": {},
   "outputs": [],
   "source": []
  }
 ],
 "metadata": {
  "kernelspec": {
   "display_name": "Python 3 (ipykernel)",
   "language": "python",
   "name": "python3"
  },
  "language_info": {
   "codemirror_mode": {
    "name": "ipython",
    "version": 3
   },
   "file_extension": ".py",
   "mimetype": "text/x-python",
   "name": "python",
   "nbconvert_exporter": "python",
   "pygments_lexer": "ipython3",
   "version": "3.9.7"
  }
 },
 "nbformat": 4,
 "nbformat_minor": 5
}
