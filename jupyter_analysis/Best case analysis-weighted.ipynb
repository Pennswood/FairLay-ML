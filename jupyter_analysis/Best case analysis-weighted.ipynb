{
 "cells": [
  {
   "cell_type": "code",
   "execution_count": 1,
   "metadata": {},
   "outputs": [
    {
     "ename": "FileNotFoundError",
     "evalue": "[Errno 2] No such file or directory: './jupyter_analysis'",
     "output_type": "error",
     "traceback": [
      "\u001b[0;31m---------------------------------------------------------------------------\u001b[0m",
      "\u001b[0;31mFileNotFoundError\u001b[0m                         Traceback (most recent call last)",
      "\u001b[0;32m/tmp/ipykernel_4773/3460783664.py\u001b[0m in \u001b[0;36m<module>\u001b[0;34m\u001b[0m\n\u001b[1;32m      4\u001b[0m \u001b[0msensitive_param\u001b[0m \u001b[0;34m=\u001b[0m \u001b[0;34m\"sex\"\u001b[0m\u001b[0;34m\u001b[0m\u001b[0;34m\u001b[0m\u001b[0m\n\u001b[1;32m      5\u001b[0m \u001b[0;32mimport\u001b[0m \u001b[0mos\u001b[0m\u001b[0;34m\u001b[0m\u001b[0;34m\u001b[0m\u001b[0m\n\u001b[0;32m----> 6\u001b[0;31m \u001b[0mos\u001b[0m\u001b[0;34m.\u001b[0m\u001b[0mchdir\u001b[0m\u001b[0;34m(\u001b[0m\u001b[0;34m'./jupyter_analysis'\u001b[0m\u001b[0;34m)\u001b[0m\u001b[0;34m\u001b[0m\u001b[0;34m\u001b[0m\u001b[0m\n\u001b[0m",
      "\u001b[0;31mFileNotFoundError\u001b[0m: [Errno 2] No such file or directory: './jupyter_analysis'"
     ]
    }
   ],
   "source": [
    "# what we are studying\n",
    "model = \"LR\"\n",
    "dataset = \"census\"\n",
    "sensitive_param = \"sex\"\n",
    "import os\n",
    "os.chdir('./jupyter_analysis')"
   ]
  },
  {
   "cell_type": "code",
   "execution_count": 2,
   "metadata": {},
   "outputs": [
    {
     "name": "stdout",
     "output_type": "stream",
     "text": [
      "Min score: 0.6298980469229825\n",
      "Max score: 0.8161159562707284\n",
      "Min AOD: 0.0\n",
      "Max AOD: 0.3956390289786591\n"
     ]
    }
   ],
   "source": [
    "import pandas as pd\n",
    "df = pd.read_csv(\"../Dataset\" + \"/\" + f\"{model}_{dataset}_{sensitive_param}_exhaust.csv\")\n",
    "print(f\"Min score: {df['score'].min()}\")\n",
    "print(f\"Max score: {df['score'].max()}\")\n",
    "print(f\"Min AOD: {df['AOD'].min()}\")\n",
    "print(f\"Max AOD: {df['AOD'].max()}\")"
   ]
  },
  {
   "cell_type": "code",
   "execution_count": 3,
   "metadata": {},
   "outputs": [
    {
     "name": "stdout",
     "output_type": "stream",
     "text": [
      "Best AOD: <bound method Series.mask of solver                                                       liblinear\n",
      "penalty                                                             l2\n",
      "dual                                                              True\n",
      "tol                                                           0.625992\n",
      "C                                                            68.653623\n",
      "fit_intercept                                                    False\n",
      "intercept_scaling                                             3.890568\n",
      "max_iteration                                                     1015\n",
      "multi_class                                                       auto\n",
      "l1_ratio                                                           NaN\n",
      "class_weight                                                       NaN\n",
      "random_state                                                      2019\n",
      "verbose                                                              0\n",
      "warm_start                                                        True\n",
      "n_jobs                                                             NaN\n",
      "score                                                         0.756541\n",
      "AOD                                                                0.0\n",
      "TPR                                                                0.0\n",
      "FPR                                                                0.0\n",
      "counter                                                           1539\n",
      "timer                                                      3457.979301\n",
      "mask                 [True, True, False, False, False, False, False...\n",
      "inp                  [2, 1, 1, 0.6259921500137948, 68.6536228500426...\n",
      "Name: 1539, dtype: object>\n",
      "Best accuracy: <bound method Series.mask of solver                                                       liblinear\n",
      "penalty                                                             l2\n",
      "dual                                                              True\n",
      "tol                                                           0.625992\n",
      "C                                                            68.653623\n",
      "fit_intercept                                                    False\n",
      "intercept_scaling                                             3.890568\n",
      "max_iteration                                                     1015\n",
      "multi_class                                                       auto\n",
      "l1_ratio                                                           NaN\n",
      "class_weight                                                       NaN\n",
      "random_state                                                      2019\n",
      "verbose                                                              0\n",
      "warm_start                                                        True\n",
      "n_jobs                                                             NaN\n",
      "score                                                         0.629898\n",
      "AOD                                                           0.101202\n",
      "TPR                                                           0.105918\n",
      "FPR                                                           0.096486\n",
      "counter                                                           3765\n",
      "timer                                                      8265.139496\n",
      "mask                 [True, False, True, False, True, True, False, ...\n",
      "inp                  [2, 1, 1, 0.6259921500137948, 68.6536228500426...\n",
      "Name: 3765, dtype: object>\n"
     ]
    }
   ],
   "source": [
    "print(f\"Best AOD: {df[df['AOD'] == df['AOD'].min()].iloc[0].mask}\")\n",
    "print(f\"Best accuracy: {df[df['score'] == df['score'].min()].iloc[0].mask}\")"
   ]
  },
  {
   "cell_type": "markdown",
   "metadata": {},
   "source": [
    "## Recreating the best model"
   ]
  },
  {
   "cell_type": "code",
   "execution_count": 4,
   "metadata": {},
   "outputs": [
    {
     "name": "stdout",
     "output_type": "stream",
     "text": [
      "['/home/normenyu/Parfait-ML/jupyter_analysis', '/home/normenyu/anaconda3/lib/python39.zip', '/home/normenyu/anaconda3/lib/python3.9', '/home/normenyu/anaconda3/lib/python3.9/lib-dynload', '', '/home/normenyu/anaconda3/lib/python3.9/site-packages', '/home/normenyu/anaconda3/lib/python3.9/site-packages/locket-0.2.1-py3.9.egg', '/home/normenyu/anaconda3/lib/python3.9/site-packages/IPython/extensions', '/home/normenyu/.ipython', '../subjects/', '../', '../']\n"
     ]
    }
   ],
   "source": [
    "import ast\n",
    "import sys\n",
    "sys.path.append(\"../subjects/\")\n",
    "\n",
    "import numpy as np\n",
    "import LogisticRegression\n",
    "from sklearn.model_selection import train_test_split\n",
    "\n",
    "from sklearn.preprocessing import StandardScaler\n",
    "\n",
    "from adf_data.census import census_data\n",
    "from adf_data.credit import credit_data\n",
    "from adf_data.bank import bank_data\n",
    "from adf_data.compas import compas_data\n",
    "import matplotlib.pyplot as plt\n",
    "os.chdir('../')"
   ]
  },
  {
   "cell_type": "markdown",
   "metadata": {},
   "source": [
    "Unfortunately, we HAVE to standardize the data in order to make an \"apples-to-apples\" comparison."
   ]
  },
  {
   "cell_type": "code",
   "execution_count": 5,
   "metadata": {},
   "outputs": [],
   "source": [
    "data = {\"census\":census_data, \"credit\":credit_data, \"bank\":bank_data, \"compas\": compas_data}\n",
    "X, Y, input_shape, nb_classes = data[dataset]()\n",
    "Y = np.argmax(Y, axis=1)\n",
    "X_train, X_test, y_train, y_test = train_test_split(X, Y, random_state=0)\n",
    "std = StandardScaler()\n",
    "std.fit(X_train)\n",
    "X_train = std.transform(X_train)\n",
    "X_test = std.transform(X_test)"
   ]
  },
  {
   "cell_type": "markdown",
   "metadata": {},
   "source": [
    "### The most fair model has the following coeficients"
   ]
  },
  {
   "cell_type": "code",
   "execution_count": 6,
   "metadata": {},
   "outputs": [
    {
     "name": "stdout",
     "output_type": "stream",
     "text": [
      "[2, 1, 1, 0.6259921500137948, 68.65362285004268, 0, 3.8905675202032266, 1015, 2, 1, 2, 3, 0, 1, 0]\n",
      "['liblinear', 'l2', True, 0.6259921500137948, 68.65362285004268, False, 3.8905675202032266, 1015, 'auto', 'rand', 'weighted', 'int', 0, True, 'None']\n",
      "['liblinear', 'l2', True, 0.6259921500137948, 68.65362285004268, False, 3.8905675202032266, 1015, 'auto', None, None, 2019, 0, True, None]\n",
      "[[-7.00464892e-04 -8.10495167e-04 -5.65956232e-01 -7.07601511e-02\n",
      "  -1.10310116e-01 -6.42971680e-02  1.05266232e-01  2.82949159e-01\n",
      "   5.43056872e-04]]\n",
      "[1015]\n",
      "0.6747328338042009\n",
      "[True, True, False, False, False, False, False, False, False, True, True, False, False]\n"
     ]
    },
    {
     "name": "stderr",
     "output_type": "stream",
     "text": [
      "/home/normenyu/anaconda3/lib/python3.9/site-packages/sklearn/svm/_base.py:985: ConvergenceWarning: Liblinear failed to converge, increase the number of iterations.\n",
      "  warnings.warn(\"Liblinear failed to converge, increase \"\n"
     ]
    },
    {
     "data": {
      "text/plain": [
       "<BarContainer object of 9 artists>"
      ]
     },
     "execution_count": 6,
     "metadata": {},
     "output_type": "execute_result"
    },
    {
     "data": {
      "image/png": "[encoded data removed]",
      "text/plain": [
       "<Figure size 432x288 with 1 Axes>"
      ]
     },
     "metadata": {
      "needs_background": "light"
     },
     "output_type": "display_data"
    }
   ],
   "source": [
    "inp = ast.literal_eval(df[df['AOD'] == df['AOD'].min()].iloc[0][\"inp\"])\n",
    "feature_mask = ast.literal_eval(df[df['AOD'] == df['AOD'].min()].iloc[0][\"mask\"])\n",
    "X_train_masked = np.delete(X_train, feature_mask, axis = 1)\n",
    "X_test_masked = np.delete(X_test, feature_mask, axis = 1)\n",
    "model = LogisticRegression.logistic_regression(inp, X_train_masked, X_test_masked, y_train, y_test, sensitive_param, dataset_name=dataset, save_model=True)[1]\n",
    "print(model.coef_)\n",
    "print(model.n_iter_)\n",
    "print(model.score(X_test_masked, y_test))\n",
    "print(feature_mask)\n",
    "plt.bar(range(len(model.coef_[0])),model.coef_[0])"
   ]
  },
  {
   "cell_type": "markdown",
   "metadata": {},
   "source": [
    "### The most accurate model has the following coeficients"
   ]
  },
  {
   "cell_type": "code",
   "execution_count": 9,
   "metadata": {},
   "outputs": [
    {
     "name": "stdout",
     "output_type": "stream",
     "text": [
      "[2, 1, 1, 0.6259921500137948, 68.65362285004268, 0, 3.8905675202032266, 1015, 2, 1, 2, 3, 0, 1, 0]\n",
      "['liblinear', 'l2', True, 0.6259921500137948, 68.65362285004268, False, 3.8905675202032266, 1015, 'auto', 'rand', 'weighted', 'int', 0, True, 'None']\n",
      "['liblinear', 'l2', True, 0.6259921500137948, 68.65362285004268, False, 3.8905675202032266, 1015, 'auto', None, None, 2019, 0, True, None]\n",
      "[[-0.0295242  -0.96424136 -0.14839846 -0.11599805  8.48252962  0.29806215]]\n",
      "[1015]\n",
      "0.7949883306719077\n",
      "[True, True, True, False, False, False, True, False, True, False, False, True, True]\n"
     ]
    },
    {
     "name": "stderr",
     "output_type": "stream",
     "text": [
      "/home/normenyu/anaconda3/lib/python3.9/site-packages/sklearn/svm/_base.py:985: ConvergenceWarning: Liblinear failed to converge, increase the number of iterations.\n",
      "  warnings.warn(\"Liblinear failed to converge, increase \"\n"
     ]
    },
    {
     "data": {
      "text/plain": [
       "<BarContainer object of 6 artists>"
      ]
     },
     "execution_count": 9,
     "metadata": {},
     "output_type": "execute_result"
    },
    {
     "data": {
      "image/png": "[encoded data removed]",
      "text/plain": [
       "<Figure size 432x288 with 1 Axes>"
      ]
     },
     "metadata": {
      "needs_background": "light"
     },
     "output_type": "display_data"
    }
   ],
   "source": [
    "inp = ast.literal_eval(df[df['score'] == df['score'].max()].iloc[0][\"inp\"])\n",
    "feature_mask = ast.literal_eval(df[df['score'] == df['score'].max()].iloc[0][\"mask\"])\n",
    "X_train_masked = np.delete(X_train, feature_mask, axis = 1)\n",
    "X_test_masked = np.delete(X_test, feature_mask, axis = 1)\n",
    "model = LogisticRegression.logistic_regression(inp, X_train_masked, X_test_masked, y_train, y_test, sensitive_param, dataset_name=dataset, save_model=True)[1]\n",
    "print(model.coef_)\n",
    "print(model.n_iter_)\n",
    "print(model.score(X_test_masked, y_test))\n",
    "print(feature_mask)\n",
    "plt.bar(range(len(model.coef_[0])),model.coef_[0])"
   ]
  },
  {
   "cell_type": "code",
   "execution_count": 8,
   "metadata": {},
   "outputs": [
    {
     "data": {
      "text/plain": [
       "6471    0.816116\n",
       "Name: score, dtype: float64"
      ]
     },
     "execution_count": 8,
     "metadata": {},
     "output_type": "execute_result"
    }
   ],
   "source": [
    "df[df['score'] == df['score'].max()][\"score\"]"
   ]
  },
  {
   "cell_type": "code",
   "execution_count": null,
   "metadata": {},
   "outputs": [],
   "source": []
  }
 ],
 "metadata": {
  "anaconda-cloud": {},
  "kernelspec": {
   "display_name": "Python 3",
   "language": "python",
   "name": "python3"
  },
  "language_info": {
   "codemirror_mode": {
    "name": "ipython",
    "version": 3
   },
   "file_extension": ".py",
   "mimetype": "text/x-python",
   "name": "python",
   "nbconvert_exporter": "python",
   "pygments_lexer": "ipython3",
   "version": "3.6.9"
  }
 },
 "nbformat": 4,
 "nbformat_minor": 1
}
