{
 "cells": [
  {
   "cell_type": "code",
   "execution_count": 16,
   "id": "e227b83f",
   "metadata": {},
   "outputs": [],
   "source": [
    "# Don't run on actual code\n",
    "import os\n",
    "os.chdir('../')"
   ]
  },
  {
   "cell_type": "code",
   "execution_count": 22,
   "id": "6b9ea0cd",
   "metadata": {},
   "outputs": [],
   "source": [
    "from fairlearn.metrics import MetricFrame, selection_rate, false_positive_rate, true_positive_rate\n",
    "from fairlearn.metrics import demographic_parity_difference, demographic_parity_ratio, equalized_odds_difference\n",
    "from fairlearn.reductions import ExponentiatedGradient, EqualizedOdds\n",
    "import sys\n",
    "sys.path.append(\"./subjects/\")\n",
    "import LogisticRegression\n",
    "import Decision_Tree_Classifier\n",
    "import TreeRegressor\n",
    "import Discriminant_Analysis\n",
    "import SVM\n",
    "import subprocess\n",
    "import pandas as pd\n",
    "def getMostAccurateConfig(model,dataset,sensitive_feature,algo):\n",
    "    df = pd.read_csv(\"./Dataset\" + \"/\" + f\"{model}_{dataset}_{sensitive_feature}_{algo}.csv\")\n",
    "    return df[df['score'] == df['score'].max()].iloc[0].inp"
   ]
  },
  {
   "cell_type": "code",
   "execution_count": 23,
   "id": "b280b00f",
   "metadata": {},
   "outputs": [],
   "source": [
    "models = [(\"LR\", \"LogisticRegression\"),(\"RF\",\"TreeRegressor\"),(\"SV\",\"SVM\"),(\"DT\",\"Decision_Tree_Classifier\")]\n",
    "datasets = [(\"census\", \"gender\",9), (\"census\", \"race\",8), (\"credit\", \"gender\",9), (\"bank\",\"age\",1), (\"compas\",\"gender\",1), (\"compas\",\"race\",3)]"
   ]
  },
  {
   "cell_type": "code",
   "execution_count": 24,
   "id": "965a564b",
   "metadata": {},
   "outputs": [],
   "source": [
    "equalized_moment = EqualizedOdds(difference_bound=.1)"
   ]
  },
  {
   "cell_type": "code",
   "execution_count": 25,
   "id": "86527955",
   "metadata": {
    "scrolled": true
   },
   "outputs": [
    {
     "ename": "TypeError",
     "evalue": "__init__() missing 2 required positional arguments: 'estimator' and 'constraints'",
     "output_type": "error",
     "traceback": [
      "\u001b[0;31m---------------------------------------------------------------------------\u001b[0m",
      "\u001b[0;31mTypeError\u001b[0m                                 Traceback (most recent call last)",
      "\u001b[0;32m/tmp/ipykernel_218032/499647236.py\u001b[0m in \u001b[0;36m<module>\u001b[0;34m\u001b[0m\n\u001b[0;32m----> 1\u001b[0;31m \u001b[0mtraining_model\u001b[0m \u001b[0;34m=\u001b[0m \u001b[0mExponentiatedGradient\u001b[0m\u001b[0;34m(\u001b[0m\u001b[0;34m)\u001b[0m\u001b[0;34m\u001b[0m\u001b[0;34m\u001b[0m\u001b[0m\n\u001b[0m",
      "\u001b[0;31mTypeError\u001b[0m: __init__() missing 2 required positional arguments: 'estimator' and 'constraints'"
     ]
    }
   ],
   "source": [
    "training_model = ExponentiatedGradient()"
   ]
  },
  {
   "cell_type": "code",
   "execution_count": 26,
   "id": "903aa852",
   "metadata": {},
   "outputs": [],
   "source": [
    "for m in models:\n",
    "    for d in datasets:\n",
    "        most_accurate = getMostAccurateConfig(m[0],d[0],d[1],\"mutation\")\n",
    "        if(m == \"LogisticRegression\"):\n",
    "            input_program = input_program = LogisticRegression.logistic_regression\n",
    "        elif(m == \"Decision_Tree_Classifier\"):\n",
    "            input_program = Decision_Tree_Classifier.DecisionTree\n",
    "        elif(m == \"TreeRegressor\"):\n",
    "            input_program = TreeRegressor.TreeRegress\n",
    "        elif(m == \"SVM\"):\n",
    "            input_program = SVM.SVM\n",
    "        training_model = ExponentiatedGradient(input_program)"
   ]
  },
  {
   "cell_type": "code",
   "execution_count": null,
   "id": "5006ba08",
   "metadata": {},
   "outputs": [],
   "source": []
  }
 ],
 "metadata": {
  "kernelspec": {
   "display_name": "Python 3 (ipykernel)",
   "language": "python",
   "name": "python3"
  },
  "language_info": {
   "codemirror_mode": {
    "name": "ipython",
    "version": 3
   },
   "file_extension": ".py",
   "mimetype": "text/x-python",
   "name": "python",
   "nbconvert_exporter": "python",
   "pygments_lexer": "ipython3",
   "version": "3.9.7"
  }
 },
 "nbformat": 4,
 "nbformat_minor": 5
}
