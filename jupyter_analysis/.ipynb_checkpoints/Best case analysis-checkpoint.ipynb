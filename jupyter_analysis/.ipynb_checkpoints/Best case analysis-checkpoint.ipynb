{
 "cells": [
  {
   "cell_type": "code",
   "execution_count": 1,
   "metadata": {},
   "outputs": [
    {
     "ename": "FileNotFoundError",
     "evalue": "[Errno 2] No such file or directory: './jupyter_analysis'",
     "output_type": "error",
     "traceback": [
      "\u001b[0;31m---------------------------------------------------------------------------\u001b[0m",
      "\u001b[0;31mFileNotFoundError\u001b[0m                         Traceback (most recent call last)",
      "\u001b[0;32m/tmp/ipykernel_2326/3460783664.py\u001b[0m in \u001b[0;36m<module>\u001b[0;34m\u001b[0m\n\u001b[1;32m      4\u001b[0m \u001b[0msensitive_param\u001b[0m \u001b[0;34m=\u001b[0m \u001b[0;34m\"sex\"\u001b[0m\u001b[0;34m\u001b[0m\u001b[0;34m\u001b[0m\u001b[0m\n\u001b[1;32m      5\u001b[0m \u001b[0;32mimport\u001b[0m \u001b[0mos\u001b[0m\u001b[0;34m\u001b[0m\u001b[0;34m\u001b[0m\u001b[0m\n\u001b[0;32m----> 6\u001b[0;31m \u001b[0mos\u001b[0m\u001b[0;34m.\u001b[0m\u001b[0mchdir\u001b[0m\u001b[0;34m(\u001b[0m\u001b[0;34m'./jupyter_analysis'\u001b[0m\u001b[0;34m)\u001b[0m\u001b[0;34m\u001b[0m\u001b[0;34m\u001b[0m\u001b[0m\n\u001b[0m",
      "\u001b[0;31mFileNotFoundError\u001b[0m: [Errno 2] No such file or directory: './jupyter_analysis'"
     ]
    }
   ],
   "source": [
    "# what we are studying\n",
    "model = \"LR\"\n",
    "dataset = \"census\"\n",
    "sensitive_param = \"sex\"\n",
    "import os\n",
    "os.chdir('./jupyter_analysis')"
   ]
  },
  {
   "cell_type": "code",
   "execution_count": 2,
   "metadata": {},
   "outputs": [
    {
     "name": "stdout",
     "output_type": "stream",
     "text": [
      "Min score: 0.7953568357695615\n",
      "Max score: 0.8123080702616386\n",
      "Min AOD: 0.0043999817807793\n",
      "Max AOD: 0.217579893502967\n"
     ]
    }
   ],
   "source": [
    "import pandas as pd\n",
    "df = pd.read_csv(\"../Dataset\" + \"/\" + f\"{model}_{dataset}_{sensitive_param}_x100.csv\")\n",
    "print(f\"Min score: {df['score'].min()}\")\n",
    "print(f\"Max score: {df['score'].max()}\")\n",
    "print(f\"Min AOD: {df['AOD'].min()}\")\n",
    "print(f\"Max AOD: {df['AOD'].max()}\")"
   ]
  },
  {
   "cell_type": "code",
   "execution_count": 2,
   "metadata": {},
   "outputs": [
    {
     "ename": "NameError",
     "evalue": "name 'df' is not defined",
     "output_type": "error",
     "traceback": [
      "\u001b[0;31m---------------------------------------------------------------------------\u001b[0m",
      "\u001b[0;31mNameError\u001b[0m                                 Traceback (most recent call last)",
      "\u001b[0;32m/tmp/ipykernel_2434/4054155958.py\u001b[0m in \u001b[0;36m<module>\u001b[0;34m\u001b[0m\n\u001b[0;32m----> 1\u001b[0;31m \u001b[0mprint\u001b[0m\u001b[0;34m(\u001b[0m\u001b[0;34mf\"Best AOD: {df[df['AOD'] == df['AOD'].min()].iloc[0].inp}\"\u001b[0m\u001b[0;34m)\u001b[0m\u001b[0;34m\u001b[0m\u001b[0;34m\u001b[0m\u001b[0m\n\u001b[0m\u001b[1;32m      2\u001b[0m \u001b[0mprint\u001b[0m\u001b[0;34m(\u001b[0m\u001b[0;34mf\"Best accuracy: {df[df['score'] == df['score'].max()].iloc[0].inp}\"\u001b[0m\u001b[0;34m)\u001b[0m\u001b[0;34m\u001b[0m\u001b[0;34m\u001b[0m\u001b[0m\n",
      "\u001b[0;31mNameError\u001b[0m: name 'df' is not defined"
     ]
    }
   ],
   "source": [
    "print(f\"Best AOD: {df[df['AOD'] == df['AOD'].min()].iloc[0].inp}\")\n",
    "print(f\"Best accuracy: {df[df['score'] == df['score'].max()].iloc[0].inp}\")"
   ]
  },
  {
   "cell_type": "markdown",
   "metadata": {},
   "source": [
    "## Recreating the best model"
   ]
  },
  {
   "cell_type": "code",
   "execution_count": 4,
   "metadata": {},
   "outputs": [
    {
     "name": "stdout",
     "output_type": "stream",
     "text": [
      "['/home/normenyu/Parfait-ML/jupyter_analysis', '/home/normenyu/anaconda3/lib/python39.zip', '/home/normenyu/anaconda3/lib/python3.9', '/home/normenyu/anaconda3/lib/python3.9/lib-dynload', '', '/home/normenyu/anaconda3/lib/python3.9/site-packages', '/home/normenyu/anaconda3/lib/python3.9/site-packages/locket-0.2.1-py3.9.egg', '/home/normenyu/anaconda3/lib/python3.9/site-packages/IPython/extensions', '/home/normenyu/.ipython', '../subjects/', '../', '../']\n"
     ]
    }
   ],
   "source": [
    "import ast\n",
    "import sys\n",
    "sys.path.append(\"../subjects/\")\n",
    "\n",
    "import numpy as np\n",
    "import LogisticRegression\n",
    "from sklearn.model_selection import train_test_split\n",
    "\n",
    "from sklearn.preprocessing import StandardScaler\n",
    "\n",
    "from adf_data.census import census_data\n",
    "from adf_data.credit import credit_data\n",
    "from adf_data.bank import bank_data\n",
    "from adf_data.compas import compas_data\n",
    "import matplotlib.pyplot as plt\n",
    "os.chdir('../')"
   ]
  },
  {
   "cell_type": "markdown",
   "metadata": {},
   "source": [
    "Unfortunately, we HAVE to standardize the data in order to make an \"apples-to-apples\" comparison."
   ]
  },
  {
   "cell_type": "code",
   "execution_count": 5,
   "metadata": {},
   "outputs": [],
   "source": [
    "data = {\"census\":census_data, \"credit\":credit_data, \"bank\":bank_data, \"compas\": compas_data}\n",
    "X, Y, input_shape, nb_classes = data[dataset]()\n",
    "Y = np.argmax(Y, axis=1)\n",
    "X_train, X_test, y_train, y_test = train_test_split(X, Y, random_state=0)\n",
    "std = StandardScaler()\n",
    "std.fit(X_train)\n",
    "X_train = std.transform(X_train)\n",
    "X_test = std.transform(X_test)"
   ]
  },
  {
   "cell_type": "markdown",
   "metadata": {},
   "source": [
    "### The most fair model has the following coeficients"
   ]
  },
  {
   "cell_type": "code",
   "execution_count": 9,
   "metadata": {},
   "outputs": [
    {
     "name": "stdout",
     "output_type": "stream",
     "text": [
      "[2, 1, 1, 0.5404340743311927, 20.260143354462727, 0, 2.2039546926516187, 9536, 1, 0, 1, 1, 1, 1, 0]\n",
      "['liblinear', 'l2', True, 0.5404340743311927, 20.260143354462727, False, 2.2039546926516187, 9536, 'multinomial', 'none', 'balanced', 'int', 1, True, 'None']\n",
      "['liblinear', 'l2', True, 0.5404340743311927, 20.260143354462727, False, 2.2039546926516187, 9536, 'ovr', None, None, 2019, 0, True, None]\n",
      "[[ 0.30553868  0.91426869  0.03415987 -0.04975052 -0.64042566 -1.04448287\n",
      "  -0.2516246  -0.08569369  0.11826748  8.58048377  0.28057054  0.3397775\n",
      "  -0.02646006]]\n",
      "0.0\n",
      "[956]\n",
      "0.7929001351185359\n"
     ]
    },
    {
     "data": {
      "text/plain": [
       "Text(0, 0.5, 'weight')"
      ]
     },
     "execution_count": 9,
     "metadata": {},
     "output_type": "execute_result"
    },
    {
     "data": {
      "image/png": "[encoded data removed]",
      "text/plain": [
       "<Figure size 432x288 with 1 Axes>"
      ]
     },
     "metadata": {
      "needs_background": "light"
     },
     "output_type": "display_data"
    }
   ],
   "source": [
    "inp = ast.literal_eval(df[df['AOD'] == df['AOD'].min()].iloc[0][\"inp\"])\n",
    "model = LogisticRegression.logistic_regression(inp, X_train, X_test, y_train, y_test, sensitive_param, dataset_name=dataset, save_model=True)[1]\n",
    "print(model.coef_)\n",
    "print(model.intercept_)\n",
    "print(model.n_iter_)\n",
    "print(model.score(X_test, y_test))\n",
    "plt.bar(range(len(model.coef_[0])),model.coef_[0])\n",
    "plt.title(\"Logistic Regression: Most fair model\")\n",
    "plt.xlabel(\"Column number\")\n",
    "plt.ylabel(\"weight\")"
   ]
  },
  {
   "cell_type": "markdown",
   "metadata": {},
   "source": [
    "### The most accurate model has the following coeficients"
   ]
  },
  {
   "cell_type": "code",
   "execution_count": 10,
   "metadata": {},
   "outputs": [
    {
     "name": "stdout",
     "output_type": "stream",
     "text": [
      "[2, 1, 1, 0.30434805790648234, 65.26585607495385, 1, 7.778986387054683, 9988, -1, 1, 0, 0, -6, 0, 0]\n",
      "['liblinear', 'l2', True, 0.30434805790648234, 65.26585607495385, True, 7.778986387054683, 9988, 'ovr', 'rand', 'None', 'None', 0, False, 'None']\n",
      "['liblinear', 'l2', True, 0.30434805790648234, 65.26585607495385, True, 7.778986387054683, 9988, 'ovr', None, None, 2019, 0, False, None]\n",
      "[[ 0.39271728  1.08424038  0.04724548 -0.06943649 -1.00035622 -1.28918177\n",
      "  -0.31505032 -0.12467124  0.17056573  2.65459181  0.2958675   0.44118546\n",
      "  -0.04034877]]\n",
      "[-1.58320203]\n",
      "[5174]\n",
      "0.806411988699177\n"
     ]
    },
    {
     "data": {
      "text/plain": [
       "Text(0, 0.5, 'weight')"
      ]
     },
     "execution_count": 10,
     "metadata": {},
     "output_type": "execute_result"
    },
    {
     "data": {
      "image/png": "[encoded data removed]",
      "text/plain": [
       "<Figure size 432x288 with 1 Axes>"
      ]
     },
     "metadata": {
      "needs_background": "light"
     },
     "output_type": "display_data"
    }
   ],
   "source": [
    "inp = ast.literal_eval(df[df['score'] == df['score'].max()].iloc[0][\"inp\"])\n",
    "model = LogisticRegression.logistic_regression(inp, X_train, X_test, y_train, y_test, sensitive_param, dataset_name=dataset, save_model=True)[1]\n",
    "print(model.coef_)\n",
    "print(model.intercept_)\n",
    "print(model.n_iter_)\n",
    "print(model.score(X_test,y_test))\n",
    "plt.bar(range(len(model.coef_[0])),model.coef_[0])\n",
    "plt.title(\"Logistic Regression: Most accurate model\")\n",
    "plt.xlabel(\"Column number\")\n",
    "plt.ylabel(\"weight\")"
   ]
  },
  {
   "cell_type": "code",
   "execution_count": 8,
   "metadata": {},
   "outputs": [
    {
     "data": {
      "text/plain": [
       "0.030185402658811"
      ]
     },
     "execution_count": 8,
     "metadata": {},
     "output_type": "execute_result"
    }
   ],
   "source": [
    "df[df['score'] == df['score'].max()][\"AOD\"].iloc[0]"
   ]
  },
  {
   "cell_type": "code",
   "execution_count": null,
   "metadata": {},
   "outputs": [],
   "source": []
  }
 ],
 "metadata": {
  "anaconda-cloud": {},
  "kernelspec": {
   "display_name": "Python 3 (ipykernel)",
   "language": "python",
   "name": "python3"
  },
  "language_info": {
   "codemirror_mode": {
    "name": "ipython",
    "version": 3
   },
   "file_extension": ".py",
   "mimetype": "text/x-python",
   "name": "python",
   "nbconvert_exporter": "python",
   "pygments_lexer": "ipython3",
   "version": "3.9.7"
  }
 },
 "nbformat": 4,
 "nbformat_minor": 1
}
