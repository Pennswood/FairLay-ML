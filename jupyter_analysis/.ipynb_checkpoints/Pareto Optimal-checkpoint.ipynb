{
 "cells": [
  {
   "cell_type": "markdown",
   "id": "ca39cd02",
   "metadata": {},
   "source": [
    "## Logistic Regression pareto-optimal"
   ]
  },
  {
   "cell_type": "code",
   "execution_count": 22,
   "id": "b8796075",
   "metadata": {},
   "outputs": [],
   "source": [
    "model = \"LR\"\n",
    "dataset = \"census\"\n",
    "sensitive_param = \"sex\"\n",
    "import pandas as pd\n",
    "import numpy as np\n"
   ]
  },
  {
   "cell_type": "markdown",
   "id": "efa721bd",
   "metadata": {},
   "source": [
    "## Logistic Regression pareto-optimal using 10x max iteration"
   ]
  },
  {
   "cell_type": "code",
   "execution_count": 23,
   "id": "75e1dd28",
   "metadata": {},
   "outputs": [],
   "source": [
    "# Run this for the 10x max_iter\n",
    "df = pd.read_csv(\"../Dataset\" + \"/\" + f\"{model}_{dataset}_{sensitive_param}.csv\")\n",
    "standardized = False\n",
    "num_iter = \"1x\""
   ]
  },
  {
   "cell_type": "code",
   "execution_count": 24,
   "id": "83dbbd7c",
   "metadata": {},
   "outputs": [],
   "source": [
    "# Run this for masking\n",
    "df = pd.read_csv(\"../Dataset\" + \"/\" + f\"{model}_{dataset}_{sensitive_param}_exhaust.csv\")\n",
    "standardized = False\n",
    "num_iter = \"100x; feature masking search\""
   ]
  },
  {
   "cell_type": "code",
   "execution_count": 20,
   "id": "be17a8a0",
   "metadata": {},
   "outputs": [],
   "source": [
    "# Run this for the 10x max_iter\n",
    "df = pd.read_csv(\"../Dataset\" + \"/\" + f\"{model}_{dataset}_{sensitive_param}_x10.csv\")\n",
    "standardized = False\n",
    "num_iter = \"10x\""
   ]
  },
  {
   "cell_type": "code",
   "execution_count": 10,
   "id": "ebb97a45",
   "metadata": {},
   "outputs": [],
   "source": [
    "# Run this for the 100x max_iter\n",
    "df = pd.read_csv(\"../Dataset\" + \"/\" + f\"{model}_{dataset}_{sensitive_param}_x100.csv\")\n",
    "num_iter = \"100x\"\n",
    "standardized = False"
   ]
  },
  {
   "cell_type": "code",
   "execution_count": 26,
   "id": "5b0ca346",
   "metadata": {},
   "outputs": [],
   "source": [
    "# Run this for the 100x max_iter\n",
    "df = pd.read_csv(\"../Dataset\" + \"/\" + f\"{model}_{dataset}_{sensitive_param}_x100_SS.csv\")\n",
    "num_iter = \"100x\"\n",
    "standardized = True"
   ]
  },
  {
   "cell_type": "code",
   "execution_count": 25,
   "id": "bfd67793",
   "metadata": {},
   "outputs": [
    {
     "name": "stdout",
     "output_type": "stream",
     "text": [
      "         score       AOD\n",
      "2316  0.571183  0.126709\n",
      "2348  0.567744  0.122876\n",
      "2380  0.608279  0.156028\n",
      "2391  0.245547  0.000319\n",
      "2412  0.608402  0.156741\n",
      "2438  0.603489  0.146455\n",
      "2444  0.630021  0.165738\n",
      "2446  0.617000  0.157666\n",
      "2477  0.605208  0.153061\n",
      "2483  0.243459  0.000000\n",
      "2502  0.632109  0.169259\n",
      "2508  0.649306  0.183726\n",
      "2509  0.629530  0.162408\n",
      "2510  0.619457  0.158356\n",
      "2540  0.660238  0.204169\n",
      "2542  0.656430  0.198953\n",
      "3004  0.539246  0.015888\n",
      "3064  0.365557  0.010045\n",
      "3276  0.676207  0.301905\n",
      "3300  0.688982  0.349568\n",
      "3308  0.687753  0.322854\n",
      "3340  0.595381  0.144408\n",
      "3357  0.269132  0.001551\n",
      "3372  0.585309  0.139451\n",
      "3468  0.643533  0.182954\n",
      "3516  0.565655  0.031448\n",
      "3532  0.665152  0.205624\n",
      "3533  0.637637  0.175261\n",
      "3556  0.673013  0.224669\n",
      "3566  0.666380  0.211533\n",
      "3823  0.690087  0.395585\n",
      "4028  0.544528  0.018509\n",
      "4088  0.351431  0.003103\n",
      "6444  0.574377  0.137011\n",
      "6459  0.244442  0.000030\n",
      "6617  0.247021  0.000613\n",
      "7430  0.587766  0.143557\n",
      "7438  0.573271  0.135227\n",
      "7515  0.246161  0.000342\n",
      "8027  0.247758  0.001400\n",
      "8094  0.421816  0.010399\n"
     ]
    },
    {
     "data": {
      "text/plain": [
       "Text(0.5, 1.0, 'Pareto optimal frontier points_100x; feature masking search_standardized=False')"
      ]
     },
     "execution_count": 25,
     "metadata": {},
     "output_type": "execute_result"
    },
    {
     "data": {
      "image/png": "[encoded data removed]",
      "text/plain": [
       "<Figure size 432x288 with 1 Axes>"
      ]
     },
     "metadata": {
      "needs_background": "light"
     },
     "output_type": "display_data"
    }
   ],
   "source": [
    "# Taken from https://newbedev.com/fast-calculation-of-pareto-front-in-python\n",
    "def is_pareto_efficient(costs, return_mask = True):\n",
    "    \"\"\"\n",
    "    Find the pareto-efficient points\n",
    "    :param costs: An (n_points, n_costs) array\n",
    "    :param return_mask: True to return a mask\n",
    "    :return: An array of indices of pareto-efficient points.\n",
    "        If return_mask is True, this will be an (n_points, ) boolean array\n",
    "        Otherwise it will be a (n_efficient_points, ) integer array of indices.\n",
    "    \"\"\"\n",
    "    is_efficient = np.arange(costs.shape[0])\n",
    "    n_points = costs.shape[0]\n",
    "    next_point_index = 0  # Next index in the is_efficient array to search for\n",
    "    while next_point_index<len(costs):\n",
    "        nondominated_point_mask = np.any(costs<costs[next_point_index], axis=1)\n",
    "        nondominated_point_mask[next_point_index] = True\n",
    "        is_efficient = is_efficient[nondominated_point_mask]  # Remove dominated points\n",
    "        costs = costs[nondominated_point_mask]\n",
    "        next_point_index = np.sum(nondominated_point_mask[:next_point_index])+1\n",
    "    if return_mask:\n",
    "        is_efficient_mask = np.zeros(n_points, dtype = bool)\n",
    "        is_efficient_mask[is_efficient] = True\n",
    "        return is_efficient_mask\n",
    "    else:\n",
    "        return is_efficient\n",
    "from matplotlib.pyplot import scatter, xlabel, ylabel, title\n",
    "scatter(df[\"score\"],df[\"AOD\"], color='blue')\n",
    "\n",
    "\n",
    "df_masking = df.copy()\n",
    "df_masking[\"score\"] = -df_masking[\"score\"] # we want to find maximium for score\n",
    "\n",
    "\n",
    "mask = is_pareto_efficient(df_masking[[\"score\",\"AOD\"]].to_numpy(), True)\n",
    "scatter(df[\"score\"][mask],df[\"AOD\"][mask], color='red')\n",
    "print(f\"{df[['score', 'AOD']][mask]}\")\n",
    "xlabel(\"Accuracy\")\n",
    "ylabel(\"AOD\")\n",
    "title(f\"Pareto optimal frontier points_{num_iter}_standardized={standardized}\")"
   ]
  },
  {
   "cell_type": "code",
   "execution_count": 26,
   "id": "c25ee5ff",
   "metadata": {},
   "outputs": [
    {
     "data": {
      "text/plain": [
       "solver                                                       liblinear\n",
       "penalty                                                             l2\n",
       "dual                                                              True\n",
       "tol                                                           0.304348\n",
       "C                                                            65.265856\n",
       "fit_intercept                                                     True\n",
       "intercept_scaling                                             7.778986\n",
       "max_iteration                                                      105\n",
       "multi_class                                                        ovr\n",
       "l1_ratio                                                           NaN\n",
       "class_weight                                                       NaN\n",
       "random_state                                                      2019\n",
       "verbose                                                              0\n",
       "warm_start                                                       False\n",
       "n_jobs                                                             NaN\n",
       "score                                                         0.511608\n",
       "AOD                                                           0.192569\n",
       "TPR                                                           0.101701\n",
       "FPR                                                           0.283438\n",
       "counter                                                              0\n",
       "timer                                                         0.503599\n",
       "mask                 [False, False, False, False, False, False, Fal...\n",
       "inp                  [2, 1, 1, 0.30434805790648234, 65.265856074953...\n",
       "Name: 0, dtype: object"
      ]
     },
     "execution_count": 26,
     "metadata": {},
     "output_type": "execute_result"
    }
   ],
   "source": [
    "df.iloc[0]"
   ]
  },
  {
   "cell_type": "code",
   "execution_count": null,
   "id": "b6b58f47",
   "metadata": {},
   "outputs": [],
   "source": []
  }
 ],
 "metadata": {
  "kernelspec": {
   "display_name": "Python 3 (ipykernel)",
   "language": "python",
   "name": "python3"
  },
  "language_info": {
   "codemirror_mode": {
    "name": "ipython",
    "version": 3
   },
   "file_extension": ".py",
   "mimetype": "text/x-python",
   "name": "python",
   "nbconvert_exporter": "python",
   "pygments_lexer": "ipython3",
   "version": "3.9.7"
  }
 },
 "nbformat": 4,
 "nbformat_minor": 5
}
