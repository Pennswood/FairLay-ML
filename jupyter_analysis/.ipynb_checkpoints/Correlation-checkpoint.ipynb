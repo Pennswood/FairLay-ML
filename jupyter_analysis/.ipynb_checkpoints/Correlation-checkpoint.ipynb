{
 "cells": [
  {
   "cell_type": "code",
   "execution_count": 1,
   "id": "f19847c6",
   "metadata": {},
   "outputs": [],
   "source": [
    "import os\n",
    "os.chdir('../')\n",
    "import sys\n",
    "sys.path.append(\"./subjects/\")"
   ]
  },
  {
   "cell_type": "code",
   "execution_count": 15,
   "id": "021ecc9b",
   "metadata": {},
   "outputs": [],
   "source": [
    "model = \"LR\"\n",
    "dataset = \"census\"\n",
    "sensitive_name = \"sex\"\n",
    "\n",
    "if dataset == \"census\" and (sensitive_name == \"sex\" || sensitive_name == \"gender\"):\n",
    "    sensitive_param = 9\n",
    "    group_0 = 0  #female\n",
    "    group_1 = 1  #male\n",
    "if dataset == \"census\" and sensitive_name = \"race\":\n",
    "    sensitive_param = 8\n",
    "    group_0 = 0 # white\n",
    "    group_1 = 4 # black\n",
    "if dataset == \"credit\" and (sensitive_name == \"sex\" || sensitive_name == \"gender\"):\n",
    "    sensitive_param = 9\n",
    "    group_0 = 0  # male\n",
    "    group_1 = 1  # female\n",
    "    sensitive_name = \"gender\"\n",
    "if dataset == \"bank\" and sensitive_name == \"age\":  # with 3,5: 0.89; with 2,5: 0.84; with 4,5: 0.05; with 3,4: 0.6\n",
    "    group_0 = 3\n",
    "    group_1 = 5\n",
    "    sensitive_name = \"age\"\n",
    "    sensitive_param = 1\n",
    "if dataset == \"compas\" and (sensitive_name == \"sex\" || sensitive_name == \"gender\"):  # sex\n",
    "    group_0 = 0 # male\n",
    "    group_1 = 1 # female\n",
    "    sensitive_name = \"gender\"\n",
    "    sensitive_param = 1\n",
    "if dataset == \"compas\" and sensitive_name == \"age\":  # age\n",
    "    group_0 = 0 # under 25\n",
    "    group_1 = 2 # greater than 45\n",
    "    sensitive_name = \"age\"\n",
    "    sensitive_param = 2\n",
    "if dataset == \"compas\" and sensitive_name == \"race\":  # race\n",
    "    group_0 = 0 # non-Caucasian\n",
    "    group_1 = 1 # Caucasian\n",
    "    sensitive_name = \"race\"\n",
    "    sensitive_param = 3\n",
    "\n",
    "\n",
    "\n",
    "from sklearn.covariance import EmpiricalCovariance\n",
    "import sklearn.decomposition\n",
    "import ast\n",
    "import sys\n",
    "import numpy as np\n",
    "import os\n",
    "from sklearn.model_selection import train_test_split\n",
    "import LogisticRegression\n",
    "from sklearn.preprocessing import StandardScaler\n",
    "\n",
    "import matplotlib.pyplot as plt\n",
    "\n",
    "from adf_data.census import census_data\n",
    "from adf_data.credit import credit_data\n",
    "from adf_data.bank import bank_data\n",
    "from adf_data.compas import compas_data"
   ]
  },
  {
   "cell_type": "code",
   "execution_count": null,
   "id": "1d50d2e3",
   "metadata": {},
   "outputs": [],
   "source": []
  },
  {
   "cell_type": "code",
   "execution_count": 6,
   "id": "507a9d1e",
   "metadata": {},
   "outputs": [],
   "source": [
    "import pandas as pd\n",
    "df = pd.read_csv(\"./Dataset\" + \"/\" + f\"{model}_{dataset}_{sensitive_param}_x100.csv\")"
   ]
  },
  {
   "cell_type": "code",
   "execution_count": 26,
   "id": "e8ddcbc8",
   "metadata": {},
   "outputs": [],
   "source": [
    "inp = ast.literal_eval(df[df['AOD'] == df['AOD'].min()].iloc[0][\"inp\"])\n",
    "data = {\"census\":census_data, \"credit\":credit_data, \"bank\":bank_data, \"compas\": compas_data}\n",
    "\n",
    "X, Y, input_shape, nb_classes = data[dataset]()\n",
    "X_transformed = StandardScaler().fit_transform(X) # This turns the \"covariance\" into correlation\n",
    "Y = np.argmax(Y, axis=1)"
   ]
  },
  {
   "cell_type": "code",
   "execution_count": 30,
   "id": "a3f006e6",
   "metadata": {},
   "outputs": [],
   "source": [
    "cov = EmpiricalCovariance().fit(X_transformed)"
   ]
  },
  {
   "cell_type": "code",
   "execution_count": 31,
   "id": "1d1f77be",
   "metadata": {},
   "outputs": [
    {
     "data": {
      "text/plain": [
       "array([ 4.93372597e-16, -1.26711904e-17, -5.32079184e-17, -1.09287632e-15,\n",
       "        7.56554884e-16, -2.16894297e-16,  4.75103579e-16, -6.08534240e-16,\n",
       "        5.71992794e-16,  4.02804912e-16, -1.52537436e-15, -4.31311041e-16,\n",
       "        1.96238509e-16])"
      ]
     },
     "execution_count": 31,
     "metadata": {},
     "output_type": "execute_result"
    }
   ],
   "source": [
    "cov.location_"
   ]
  },
  {
   "cell_type": "code",
   "execution_count": 42,
   "id": "3aa97b54",
   "metadata": {},
   "outputs": [],
   "source": [
    "cov.covariance_[8]\n",
    "\n",
    "sorted_correlation = cov.covariance_[8].sort()"
   ]
  },
  {
   "cell_type": "code",
   "execution_count": 16,
   "id": "f62e53b2",
   "metadata": {},
   "outputs": [],
   "source": [
    "from matplotlib.pyplot import scatter\n",
    "import matplotlib.pyplot as plt"
   ]
  },
  {
   "cell_type": "markdown",
   "id": "ffbdf005",
   "metadata": {},
   "source": [
    "#### Sex vs column 1\n",
    "From the numbers, it seems that column 4 is of special interest since its covariance is the largest"
   ]
  },
  {
   "cell_type": "code",
   "execution_count": 37,
   "id": "2aa8076e",
   "metadata": {},
   "outputs": [
    {
     "data": {
      "text/plain": [
       "Text(0, 0.5, 'Count of data in this value')"
      ]
     },
     "execution_count": 37,
     "metadata": {},
     "output_type": "execute_result"
    },
    {
     "data": {
      "image/png": "[encoded data removed]",
      "text/plain": [
       "<Figure size 432x288 with 1 Axes>"
      ]
     },
     "metadata": {
      "needs_background": "light"
     },
     "output_type": "display_data"
    }
   ],
   "source": [
    "plt.hist([X[:,4][(X[:,8]==0)],X[:,4][(X[:,8]==1)]], bins = 20, color=[\"blue\", \"pink\"],label=[\"male\", \"female\"])\n",
    "plt.title(\"Sex v.s. column 4\")\n",
    "plt.xlabel(\"Column 4 value\")\n",
    "plt.ylabel(\"Count of data in this value\")"
   ]
  },
  {
   "cell_type": "code",
   "execution_count": 38,
   "id": "db4dea09",
   "metadata": {},
   "outputs": [
    {
     "data": {
      "text/plain": [
       "Text(0, 0.5, 'Count of data in this value')"
      ]
     },
     "execution_count": 38,
     "metadata": {},
     "output_type": "execute_result"
    },
    {
     "data": {
      "image/png": "[encoded data removed]",
      "text/plain": [
       "<Figure size 432x288 with 1 Axes>"
      ]
     },
     "metadata": {
      "needs_background": "light"
     },
     "output_type": "display_data"
    }
   ],
   "source": [
    "plt.hist([X[:,11][(X[:,8]==0)],X[:,11][(X[:,8]==1)]], bins = 20, color=[\"blue\", \"pink\"],label=[\"male\", \"female\"])\n",
    "plt.title(\"Sex v.s. column 11\")\n",
    "plt.xlabel(\"Column 11 value\")\n",
    "plt.ylabel(\"Count of data in this value\")"
   ]
  },
  {
   "cell_type": "code",
   "execution_count": 39,
   "id": "f91c650e",
   "metadata": {},
   "outputs": [
    {
     "data": {
      "text/plain": [
       "Text(0, 0.5, 'Count of data in this value')"
      ]
     },
     "execution_count": 39,
     "metadata": {},
     "output_type": "execute_result"
    },
    {
     "data": {
      "image/png": "[encoded data removed]",
      "text/plain": [
       "<Figure size 432x288 with 1 Axes>"
      ]
     },
     "metadata": {
      "needs_background": "light"
     },
     "output_type": "display_data"
    }
   ],
   "source": [
    "plt.hist([X[:,6][(X[:,8]==0)],X[:,6][(X[:,8]==1)]], bins = 20, color=[\"blue\", \"pink\"],label=[\"male\", \"female\"])\n",
    "plt.title(\"Sex v.s. column 6\")\n",
    "plt.xlabel(\"Column 11 value\")\n",
    "plt.ylabel(\"Count of data in this value\")"
   ]
  },
  {
   "cell_type": "code",
   "execution_count": 41,
   "id": "9f9d848a",
   "metadata": {},
   "outputs": [
    {
     "data": {
      "text/plain": [
       "Text(0, 0.5, 'Count of data in this value')"
      ]
     },
     "execution_count": 41,
     "metadata": {},
     "output_type": "execute_result"
    },
    {
     "data": {
      "image/png": "[encoded data removed]",
      "text/plain": [
       "<Figure size 432x288 with 1 Axes>"
      ]
     },
     "metadata": {
      "needs_background": "light"
     },
     "output_type": "display_data"
    }
   ],
   "source": [
    "plt.hist([X[:,7][(X[:,8]==0)],X[:,7][(X[:,8]==1)]], bins = 10, color=[\"blue\", \"pink\"],label=[\"male\", \"female\"])\n",
    "plt.title(\"Sex v.s. column 6\")\n",
    "plt.xlabel(\"Column 11 value\")\n",
    "plt.ylabel(\"Count of data in this value\")"
   ]
  },
  {
   "cell_type": "markdown",
   "id": "b5be4b71",
   "metadata": {},
   "source": [
    "From this, we can see that the larger the value, the more it seems to be of gender '1', and the smaller the value, the more likely it will be of gender '0'."
   ]
  },
  {
   "cell_type": "code",
   "execution_count": 90,
   "id": "90010715",
   "metadata": {},
   "outputs": [
    {
     "data": {
      "text/plain": [
       "Text(0, 0.5, 'Count of data in this value')"
      ]
     },
     "execution_count": 90,
     "metadata": {},
     "output_type": "execute_result"
    },
    {
     "data": {
      "image/png": "[encoded data removed]",
      "text/plain": [
       "<Figure size 432x288 with 1 Axes>"
      ]
     },
     "metadata": {
      "needs_background": "light"
     },
     "output_type": "display_data"
    }
   ],
   "source": [
    "plt.hist([X[:,5][(X[:,8]==0) & (X[:,5]!=100)],X[:,5][(X[:,8]==1) & (X[:,5]!=100)]], bins = 20, color=[\"blue\", \"pink\"],label=[\"male\", \"female\"])\n",
    "plt.title(\"Sex v.s. column 5\")\n",
    "plt.xlabel(\"Column 5 value\")\n",
    "plt.ylabel(\"Count of data in this value\")"
   ]
  },
  {
   "cell_type": "markdown",
   "id": "b1ce69c6",
   "metadata": {},
   "source": [
    "We can clearly see that if the value of column 5 is 1, 10, or 12, we are pretty confident that we are dealing with a female. However, from a correlation perspective, these data cancel each other out leading to a small correlation value."
   ]
  },
  {
   "cell_type": "code",
   "execution_count": 95,
   "id": "eae55b05",
   "metadata": {},
   "outputs": [
    {
     "data": {
      "text/plain": [
       "(array([[9.610e+02, 1.882e+03, 2.790e+03, 2.736e+03, 1.109e+03, 6.860e+02,\n",
       "         3.460e+02, 1.290e+02, 5.100e+01, 3.400e+01, 1.400e+01, 1.100e+01,\n",
       "         9.000e+00, 3.000e+00, 2.000e+00, 4.000e+00, 0.000e+00, 0.000e+00,\n",
       "         1.000e+00, 1.000e+00, 0.000e+00, 0.000e+00, 1.000e+00, 0.000e+00,\n",
       "         1.000e+00],\n",
       "        [1.988e+03, 3.620e+03, 5.265e+03, 5.406e+03, 2.392e+03, 1.621e+03,\n",
       "         8.120e+02, 3.620e+02, 1.490e+02, 8.000e+01, 3.800e+01, 2.600e+01,\n",
       "         1.200e+01, 4.000e+00, 3.000e+00, 1.000e+00, 2.000e+00, 3.000e+00,\n",
       "         2.000e+00, 1.000e+00, 1.000e+00, 1.000e+00, 0.000e+00, 0.000e+00,\n",
       "         1.000e+00]]),\n",
       " array([ 0.  ,  2.96,  5.92,  8.88, 11.84, 14.8 , 17.76, 20.72, 23.68,\n",
       "        26.64, 29.6 , 32.56, 35.52, 38.48, 41.44, 44.4 , 47.36, 50.32,\n",
       "        53.28, 56.24, 59.2 , 62.16, 65.12, 68.08, 71.04, 74.  ]),\n",
       " <a list of 2 BarContainer objects>)"
      ]
     },
     "execution_count": 95,
     "metadata": {},
     "output_type": "execute_result"
    },
    {
     "data": {
      "image/png": "[encoded data removed]",
      "text/plain": [
       "<Figure size 432x288 with 1 Axes>"
      ]
     },
     "metadata": {
      "needs_background": "light"
     },
     "output_type": "display_data"
    }
   ],
   "source": [
    "hist([X[:,2][X[:,8]==0],X[:,2][X[:,8]==1]], bins = 25)"
   ]
  },
  {
   "cell_type": "code",
   "execution_count": 98,
   "id": "13b79453",
   "metadata": {},
   "outputs": [
    {
     "data": {
      "text/plain": [
       "(array([[7.7520e+03, 3.9900e+02, 1.3500e+02, 3.1500e+02, 8.3500e+02,\n",
       "         4.8900e+02, 7.0000e+00],\n",
       "        [1.4944e+04, 2.1420e+03, 9.8100e+02, 6.4500e+02, 1.2580e+03,\n",
       "         8.0900e+02, 1.4000e+01]]),\n",
       " array([0., 1., 2., 3., 4., 5., 6., 7.]),\n",
       " <a list of 2 BarContainer objects>)"
      ]
     },
     "execution_count": 98,
     "metadata": {},
     "output_type": "execute_result"
    },
    {
     "data": {
      "image/png": "[encoded data removed]",
      "text/plain": [
       "<Figure size 432x288 with 1 Axes>"
      ]
     },
     "metadata": {
      "needs_background": "light"
     },
     "output_type": "display_data"
    }
   ],
   "source": [
    "plt.hist([X[:,1][(X[:,8]==0) & (X[:,1]!=100)],X[:,1][(X[:,8]==1) & (X[:,1]!=100)]], bins = 7, color=[\"blue\", \"pink\"],label=[\"male\", \"female\"])"
   ]
  },
  {
   "cell_type": "markdown",
   "id": "f40c0150",
   "metadata": {},
   "source": [
    "This histogram plot did not provide too much insight. We will stop our analysis here as the correlation gets smaller and smaller. "
   ]
  }
 ],
 "metadata": {
  "kernelspec": {
   "display_name": "Python 3 (ipykernel)",
   "language": "python",
   "name": "python3"
  },
  "language_info": {
   "codemirror_mode": {
    "name": "ipython",
    "version": 3
   },
   "file_extension": ".py",
   "mimetype": "text/x-python",
   "name": "python",
   "nbconvert_exporter": "python",
   "pygments_lexer": "ipython3",
   "version": "3.9.7"
  }
 },
 "nbformat": 4,
 "nbformat_minor": 5
}
