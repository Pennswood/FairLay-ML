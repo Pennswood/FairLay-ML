{
 "cells": [
  {
   "cell_type": "code",
   "execution_count": 1,
   "id": "e227b83f",
   "metadata": {},
   "outputs": [],
   "source": [
    "# Don't run on actual code\n",
    "import os\n",
    "os.chdir('../')"
   ]
  },
  {
   "cell_type": "code",
   "execution_count": 2,
   "id": "6b9ea0cd",
   "metadata": {},
   "outputs": [
    {
     "name": "stdout",
     "output_type": "stream",
     "text": [
      "['/usr/lib/python36.zip', '/usr/lib/python3.6', '/usr/lib/python3.6/lib-dynload', '', '/home/nxy5065/.local/lib/python3.6/site-packages', '/usr/local/lib/python3.6/dist-packages', '/usr/lib/python3/dist-packages', '/home/nxy5065/.local/lib/python3.6/site-packages/IPython/extensions', '/home/nxy5065/.ipython', './subjects/', '../', '../']\n"
     ]
    }
   ],
   "source": [
    "from fairlearn.metrics import MetricFrame, selection_rate, false_positive_rate, true_positive_rate\n",
    "from fairlearn.metrics import demographic_parity_difference, demographic_parity_ratio, equalized_odds_difference\n",
    "from fairlearn.reductions import ExponentiatedGradient, EqualizedOdds\n",
    "import sys\n",
    "sys.path.append(\"./subjects/\")\n",
    "import LogisticRegression\n",
    "import Decision_Tree_Classifier\n",
    "import TreeRegressor\n",
    "import Discriminant_Analysis\n",
    "import SVM\n",
    "\n",
    "from adf_utils.config import census, credit, bank, compas\n",
    "from adf_data.census import census_data\n",
    "from adf_data.credit import credit_data\n",
    "from adf_data.bank import bank_data\n",
    "from adf_data.compas import compas_data\n",
    "\n",
    "import subprocess\n",
    "import pandas as pd\n",
    "import numpy as np\n",
    "from sklearn.model_selection import train_test_split\n",
    "def getMostAccurateConfig(model,dataset,sensitive_feature,algo):\n",
    "    df = pd.read_csv(\"./Dataset\" + \"/\" + f\"{model}_{dataset}_{sensitive_feature}_{algo}.csv\")\n",
    "    return df[df['score'] == df['score'].max()].iloc[0].inp"
   ]
  },
  {
   "cell_type": "code",
   "execution_count": 3,
   "id": "b280b00f",
   "metadata": {},
   "outputs": [],
   "source": [
    "models = [(\"LR\", \"LogisticRegression\"),(\"RF\",\"TreeRegressor\"),(\"SV\",\"SVM\"),(\"DT\",\"Decision_Tree_Classifier\")]\n",
    "datasets = [(\"census\", \"gender\",9), (\"census\", \"race\",8), (\"credit\", \"gender\",9), (\"bank\",\"age\",1), (\"compas\",\"gender\",1), (\"compas\",\"race\",3)]"
   ]
  },
  {
   "cell_type": "code",
   "execution_count": 4,
   "id": "965a564b",
   "metadata": {},
   "outputs": [],
   "source": [
    "equalized_moment = EqualizedOdds(difference_bound=.1)"
   ]
  },
  {
   "cell_type": "code",
   "execution_count": 5,
   "id": "86527955",
   "metadata": {
    "scrolled": true
   },
   "outputs": [],
   "source": [
    "def get_data(dataset):\n",
    "    data = {\"census\":census_data, \"credit\":credit_data, \"bank\":bank_data, \"compas\": compas_data}\n",
    "    data_config = {\"census\":census, \"credit\":credit, \"bank\":bank, \"compas\": compas}\n",
    "    X, Y, input_shape, nb_classes = data[dataset]()\n",
    "    Y = np.argmax(Y, axis=1)\n",
    "    # X_train, X_test, y_train, y_test = train_test_split(X, Y, random_state=0)\n",
    "    return train_test_split(X, Y, random_state=0)"
   ]
  },
  {
   "cell_type": "code",
   "execution_count": 6,
   "id": "903aa852",
   "metadata": {},
   "outputs": [
    {
     "name": "stdout",
     "output_type": "stream",
     "text": [
      "[2, 1, 1, 0.19114388044017835, 7.508981760100949, 1, 3.7561736113233772, 976, 2, 1, 0, 0, -3, 1, 1]\n",
      "['lbfgs', 'elasticnet', False, 0.0001, 1.0, False, 1.0, 950, 'ovr', 'none', 'None', 'None', 1, True, 'int', '1', 'int', '4', 'int', '3', 'int', '8', 'int', '8', 'int', '0', 'int', '4', 'int', '4', 'int', '0', 'int', '1', 'int', '7', 'int', '8', 'int', '3', 'int', '5', 'int', ',', 'int', ' ', 'int', '7', 'int', '.', 'int', '5', 'int', '0', 'int', '8', 'int', '9', 'int', '8', 'int', '1', 'int', '7', 'int', '6', 'int', '0', 'int', '1', 'int', '0', 'int', '0', 'int', '9', 'int', '4', 'int', '9', 'int', ',', 'int', ' ', 'int', '1', 'int', ',', 'int', ' ', 'int', '3', 'int', '.', 'int', '7', 'int', '5', 'int', '6', 'int', '1', 'int', '7', 'int', '3', 'int', '6', 'int', '1', 'int', '1', 'int', '3', 'int', '2', 'int', '3', 'int', '3', 'int', '7', 'int', '7', 'int', '2', 'int', ',', 'int', ' ', 'int', '9', 'int', '7', 'int', '6', 'int', ',', 'int', ' ', 'int', '2', 'int', ',', 'int', ' ', 'int', '1', 'int', ',', 'int', ' ', 'int', '0', 'int', ',', 'int', ' ', 'int', '0', 'int', ',', 'int', ' ', 'int', '-', 'int', '3', 'int', ',', 'int', ' ', 'int', '1', 'int', ',', 'int', ' ', 'int', '1', 'int', ']', 'int']\n",
      "['lbfgs', 'l2', False, 0.0001, 1.0, False, 1.0, 950, 'ovr', None, None, 2019, 0, True, None, '1', 'int', '4', 'int', '3', 'int', '8', 'int', '8', 'int', '0', 'int', '4', 'int', '4', 'int', '0', 'int', '1', 'int', '7', 'int', '8', 'int', '3', 'int', '5', 'int', ',', 'int', ' ', 'int', '7', 'int', '.', 'int', '5', 'int', '0', 'int', '8', 'int', '9', 'int', '8', 'int', '1', 'int', '7', 'int', '6', 'int', '0', 'int', '1', 'int', '0', 'int', '0', 'int', '9', 'int', '4', 'int', '9', 'int', ',', 'int', ' ', 'int', '1', 'int', ',', 'int', ' ', 'int', '3', 'int', '.', 'int', '7', 'int', '5', 'int', '6', 'int', '1', 'int', '7', 'int', '3', 'int', '6', 'int', '1', 'int', '1', 'int', '3', 'int', '2', 'int', '3', 'int', '3', 'int', '7', 'int', '7', 'int', '2', 'int', ',', 'int', ' ', 'int', '9', 'int', '7', 'int', '6', 'int', ',', 'int', ' ', 'int', '2', 'int', ',', 'int', ' ', 'int', '1', 'int', ',', 'int', ' ', 'int', '0', 'int', ',', 'int', ' ', 'int', '0', 'int', ',', 'int', ' ', 'int', '-', 'int', '3', 'int', ',', 'int', ' ', 'int', '1', 'int', ',', 'int', ' ', 'int', '1', 'int', ']', 'int']\n",
      "[2, 1, 1, 0.523742076334804, 77.30275265854436, 1, 3.3598923768875775, 976, 1, 1, 1, 0, 0, 0, 1]\n",
      "['lbfgs', 'elasticnet', False, 0.0001, 1.0, False, 1.0, 950, 'ovr', 'none', 'None', 'None', 1, True, 'int', '7', 'int', '4', 'int', '2', 'int', '0', 'int', '7', 'int', '6', 'int', '3', 'int', '3', 'int', '4', 'int', '8', 'int', '0', 'int', '4', 'int', ',', 'int', ' ', 'int', '7', 'int', '7', 'int', '.', 'int', '3', 'int', '0', 'int', '2', 'int', '7', 'int', '5', 'int', '2', 'int', '6', 'int', '5', 'int', '8', 'int', '5', 'int', '4', 'int', '4', 'int', '3', 'int', '6', 'int', ',', 'int', ' ', 'int', '1', 'int', ',', 'int', ' ', 'int', '3', 'int', '.', 'int', '3', 'int', '5', 'int', '9', 'int', '8', 'int', '9', 'int', '2', 'int', '3', 'int', '7', 'int', '6', 'int', '8', 'int', '8', 'int', '7', 'int', '5', 'int', '7', 'int', '7', 'int', '5', 'int', ',', 'int', ' ', 'int', '9', 'int', '7', 'int', '6', 'int', ',', 'int', ' ', 'int', '1', 'int', ',', 'int', ' ', 'int', '1', 'int', ',', 'int', ' ', 'int', '1', 'int', ',', 'int', ' ', 'int', '0', 'int', ',', 'int', ' ', 'int', '0', 'int', ',', 'int', ' ', 'int', '0', 'int', ',', 'int', ' ', 'int', '1', 'int', ']', 'int']\n",
      "['lbfgs', 'l2', False, 0.0001, 1.0, False, 1.0, 950, 'ovr', None, None, 2019, 0, True, None, '7', 'int', '4', 'int', '2', 'int', '0', 'int', '7', 'int', '6', 'int', '3', 'int', '3', 'int', '4', 'int', '8', 'int', '0', 'int', '4', 'int', ',', 'int', ' ', 'int', '7', 'int', '7', 'int', '.', 'int', '3', 'int', '0', 'int', '2', 'int', '7', 'int', '5', 'int', '2', 'int', '6', 'int', '5', 'int', '8', 'int', '5', 'int', '4', 'int', '4', 'int', '3', 'int', '6', 'int', ',', 'int', ' ', 'int', '1', 'int', ',', 'int', ' ', 'int', '3', 'int', '.', 'int', '3', 'int', '5', 'int', '9', 'int', '8', 'int', '9', 'int', '2', 'int', '3', 'int', '7', 'int', '6', 'int', '8', 'int', '8', 'int', '7', 'int', '5', 'int', '7', 'int', '7', 'int', '5', 'int', ',', 'int', ' ', 'int', '9', 'int', '7', 'int', '6', 'int', ',', 'int', ' ', 'int', '1', 'int', ',', 'int', ' ', 'int', '1', 'int', ',', 'int', ' ', 'int', '1', 'int', ',', 'int', ' ', 'int', '0', 'int', ',', 'int', ' ', 'int', '0', 'int', ',', 'int', ' ', 'int', '0', 'int', ',', 'int', ' ', 'int', '1', 'int', ']', 'int']\n"
     ]
    },
    {
     "ename": "AssertionError",
     "evalue": "data can be loaded only once",
     "output_type": "error",
     "traceback": [
      "\u001b[0;31m---------------------------------------------------------------------------\u001b[0m",
      "\u001b[0;31mAssertionError\u001b[0m                            Traceback (most recent call last)",
      "\u001b[0;32m<ipython-input-6-bc9f0da419c0>\u001b[0m in \u001b[0;36m<module>\u001b[0;34m\u001b[0m\n\u001b[1;32m     16\u001b[0m         \u001b[0m_\u001b[0m\u001b[0;34m,\u001b[0m \u001b[0mmodel\u001b[0m\u001b[0;34m,\u001b[0m \u001b[0m_\u001b[0m\u001b[0;34m,\u001b[0m \u001b[0m_\u001b[0m\u001b[0;34m,\u001b[0m \u001b[0m_\u001b[0m\u001b[0;34m,\u001b[0m \u001b[0m_\u001b[0m \u001b[0;34m=\u001b[0m \u001b[0minput_program\u001b[0m\u001b[0;34m(\u001b[0m\u001b[0mmost_accurate\u001b[0m\u001b[0;34m,\u001b[0m\u001b[0mX_train\u001b[0m\u001b[0;34m,\u001b[0m \u001b[0mX_test\u001b[0m\u001b[0;34m,\u001b[0m \u001b[0my_train\u001b[0m\u001b[0;34m,\u001b[0m \u001b[0my_test\u001b[0m\u001b[0;34m,\u001b[0m \u001b[0md\u001b[0m\u001b[0;34m[\u001b[0m\u001b[0;36m2\u001b[0m\u001b[0;34m]\u001b[0m\u001b[0;34m)\u001b[0m\u001b[0;34m\u001b[0m\u001b[0;34m\u001b[0m\u001b[0m\n\u001b[1;32m     17\u001b[0m         \u001b[0mtraining_model\u001b[0m \u001b[0;34m=\u001b[0m \u001b[0mExponentiatedGradient\u001b[0m\u001b[0;34m(\u001b[0m\u001b[0mmodel\u001b[0m\u001b[0;34m,\u001b[0m\u001b[0mequalized_moment\u001b[0m\u001b[0;34m)\u001b[0m\u001b[0;34m\u001b[0m\u001b[0;34m\u001b[0m\u001b[0m\n\u001b[0;32m---> 18\u001b[0;31m         \u001b[0mtraining_model\u001b[0m\u001b[0;34m.\u001b[0m\u001b[0mfit\u001b[0m\u001b[0;34m(\u001b[0m\u001b[0mX_train\u001b[0m\u001b[0;34m,\u001b[0m\u001b[0my_train\u001b[0m\u001b[0;34m,\u001b[0m\u001b[0msensitive_features\u001b[0m\u001b[0;34m=\u001b[0m\u001b[0mX_train\u001b[0m\u001b[0;34m[\u001b[0m\u001b[0;34m:\u001b[0m\u001b[0;34m,\u001b[0m\u001b[0md\u001b[0m\u001b[0;34m[\u001b[0m\u001b[0;36m2\u001b[0m\u001b[0;34m]\u001b[0m\u001b[0;34m-\u001b[0m\u001b[0;36m1\u001b[0m\u001b[0;34m]\u001b[0m\u001b[0;34m)\u001b[0m\u001b[0;34m\u001b[0m\u001b[0;34m\u001b[0m\u001b[0m\n\u001b[0m\u001b[1;32m     19\u001b[0m \u001b[0;34m\u001b[0m\u001b[0m\n",
      "\u001b[0;32m~/.local/lib/python3.6/site-packages/fairlearn/reductions/_exponentiated_gradient/exponentiated_gradient.py\u001b[0m in \u001b[0;36mfit\u001b[0;34m(self, X, y, **kwargs)\u001b[0m\n\u001b[1;32m     89\u001b[0m                                  \u001b[0mself\u001b[0m\u001b[0;34m.\u001b[0m\u001b[0mconstraints\u001b[0m\u001b[0;34m,\u001b[0m \u001b[0mB\u001b[0m\u001b[0;34m,\u001b[0m\u001b[0;34m\u001b[0m\u001b[0;34m\u001b[0m\u001b[0m\n\u001b[1;32m     90\u001b[0m                                  \u001b[0msample_weight_name\u001b[0m\u001b[0;34m=\u001b[0m\u001b[0mself\u001b[0m\u001b[0;34m.\u001b[0m\u001b[0msample_weight_name\u001b[0m\u001b[0;34m,\u001b[0m\u001b[0;34m\u001b[0m\u001b[0;34m\u001b[0m\u001b[0m\n\u001b[0;32m---> 91\u001b[0;31m                                  **kwargs)\n\u001b[0m\u001b[1;32m     92\u001b[0m \u001b[0;34m\u001b[0m\u001b[0m\n\u001b[1;32m     93\u001b[0m         \u001b[0mtheta\u001b[0m \u001b[0;34m=\u001b[0m \u001b[0mpd\u001b[0m\u001b[0;34m.\u001b[0m\u001b[0mSeries\u001b[0m\u001b[0;34m(\u001b[0m\u001b[0;36m0\u001b[0m\u001b[0;34m,\u001b[0m \u001b[0mlagrangian\u001b[0m\u001b[0;34m.\u001b[0m\u001b[0mconstraints\u001b[0m\u001b[0;34m.\u001b[0m\u001b[0mindex\u001b[0m\u001b[0;34m)\u001b[0m\u001b[0;34m\u001b[0m\u001b[0;34m\u001b[0m\u001b[0m\n",
      "\u001b[0;32m~/.local/lib/python3.6/site-packages/fairlearn/reductions/_exponentiated_gradient/_lagrangian.py\u001b[0m in \u001b[0;36m__init__\u001b[0;34m(self, X, y, estimator, constraints, B, opt_lambda, sample_weight_name, **kwargs)\u001b[0m\n\u001b[1;32m     47\u001b[0m                  sample_weight_name='sample_weight', **kwargs):\n\u001b[1;32m     48\u001b[0m         \u001b[0mself\u001b[0m\u001b[0;34m.\u001b[0m\u001b[0mconstraints\u001b[0m \u001b[0;34m=\u001b[0m \u001b[0mconstraints\u001b[0m\u001b[0;34m\u001b[0m\u001b[0;34m\u001b[0m\u001b[0m\n\u001b[0;32m---> 49\u001b[0;31m         \u001b[0mself\u001b[0m\u001b[0;34m.\u001b[0m\u001b[0mconstraints\u001b[0m\u001b[0;34m.\u001b[0m\u001b[0mload_data\u001b[0m\u001b[0;34m(\u001b[0m\u001b[0mX\u001b[0m\u001b[0;34m,\u001b[0m \u001b[0my\u001b[0m\u001b[0;34m,\u001b[0m \u001b[0;34m**\u001b[0m\u001b[0mkwargs\u001b[0m\u001b[0;34m)\u001b[0m\u001b[0;34m\u001b[0m\u001b[0;34m\u001b[0m\u001b[0m\n\u001b[0m\u001b[1;32m     50\u001b[0m         \u001b[0mself\u001b[0m\u001b[0;34m.\u001b[0m\u001b[0mobj\u001b[0m \u001b[0;34m=\u001b[0m \u001b[0mself\u001b[0m\u001b[0;34m.\u001b[0m\u001b[0mconstraints\u001b[0m\u001b[0;34m.\u001b[0m\u001b[0mdefault_objective\u001b[0m\u001b[0;34m(\u001b[0m\u001b[0;34m)\u001b[0m\u001b[0;34m\u001b[0m\u001b[0;34m\u001b[0m\u001b[0m\n\u001b[1;32m     51\u001b[0m         \u001b[0mself\u001b[0m\u001b[0;34m.\u001b[0m\u001b[0mobj\u001b[0m\u001b[0;34m.\u001b[0m\u001b[0mload_data\u001b[0m\u001b[0;34m(\u001b[0m\u001b[0mX\u001b[0m\u001b[0;34m,\u001b[0m \u001b[0my\u001b[0m\u001b[0;34m,\u001b[0m \u001b[0;34m**\u001b[0m\u001b[0mkwargs\u001b[0m\u001b[0;34m)\u001b[0m\u001b[0;34m\u001b[0m\u001b[0;34m\u001b[0m\u001b[0m\n",
      "\u001b[0;32m~/.local/lib/python3.6/site-packages/fairlearn/reductions/_moments/utility_parity.py\u001b[0m in \u001b[0;36mload_data\u001b[0;34m(self, X, y, sensitive_features, control_features)\u001b[0m\n\u001b[1;32m    476\u001b[0m         \u001b[0mbase_event\u001b[0m \u001b[0;34m=\u001b[0m \u001b[0my_train\u001b[0m\u001b[0;34m.\u001b[0m\u001b[0mapply\u001b[0m\u001b[0;34m(\u001b[0m\u001b[0;32mlambda\u001b[0m \u001b[0mv\u001b[0m\u001b[0;34m:\u001b[0m \u001b[0m_LABEL\u001b[0m \u001b[0;34m+\u001b[0m \u001b[0;34m\"=\"\u001b[0m \u001b[0;34m+\u001b[0m \u001b[0mstr\u001b[0m\u001b[0;34m(\u001b[0m\u001b[0mv\u001b[0m\u001b[0;34m)\u001b[0m\u001b[0;34m)\u001b[0m\u001b[0;34m\u001b[0m\u001b[0;34m\u001b[0m\u001b[0m\n\u001b[1;32m    477\u001b[0m         \u001b[0mevent\u001b[0m \u001b[0;34m=\u001b[0m \u001b[0m_merge_event_and_control_columns\u001b[0m\u001b[0;34m(\u001b[0m\u001b[0mbase_event\u001b[0m\u001b[0;34m,\u001b[0m \u001b[0mcf_train\u001b[0m\u001b[0;34m)\u001b[0m\u001b[0;34m\u001b[0m\u001b[0;34m\u001b[0m\u001b[0m\n\u001b[0;32m--> 478\u001b[0;31m         \u001b[0msuper\u001b[0m\u001b[0;34m(\u001b[0m\u001b[0;34m)\u001b[0m\u001b[0;34m.\u001b[0m\u001b[0mload_data\u001b[0m\u001b[0;34m(\u001b[0m\u001b[0mX\u001b[0m\u001b[0;34m,\u001b[0m \u001b[0my_train\u001b[0m\u001b[0;34m,\u001b[0m \u001b[0mevent\u001b[0m\u001b[0;34m=\u001b[0m\u001b[0mevent\u001b[0m\u001b[0;34m,\u001b[0m \u001b[0msensitive_features\u001b[0m\u001b[0;34m=\u001b[0m\u001b[0msf_train\u001b[0m\u001b[0;34m)\u001b[0m\u001b[0;34m\u001b[0m\u001b[0;34m\u001b[0m\u001b[0m\n\u001b[0m\u001b[1;32m    479\u001b[0m \u001b[0;34m\u001b[0m\u001b[0m\n\u001b[1;32m    480\u001b[0m \u001b[0;34m\u001b[0m\u001b[0m\n",
      "\u001b[0;32m~/.local/lib/python3.6/site-packages/fairlearn/reductions/_moments/utility_parity.py\u001b[0m in \u001b[0;36mload_data\u001b[0;34m(self, X, y, sensitive_features, event, utilities)\u001b[0m\n\u001b[1;32m    138\u001b[0m \u001b[0;34m\u001b[0m\u001b[0m\n\u001b[1;32m    139\u001b[0m         \"\"\"\n\u001b[0;32m--> 140\u001b[0;31m         \u001b[0msuper\u001b[0m\u001b[0;34m(\u001b[0m\u001b[0;34m)\u001b[0m\u001b[0;34m.\u001b[0m\u001b[0mload_data\u001b[0m\u001b[0;34m(\u001b[0m\u001b[0mX\u001b[0m\u001b[0;34m,\u001b[0m \u001b[0my\u001b[0m\u001b[0;34m,\u001b[0m \u001b[0msensitive_features\u001b[0m\u001b[0;34m=\u001b[0m\u001b[0msensitive_features\u001b[0m\u001b[0;34m)\u001b[0m\u001b[0;34m\u001b[0m\u001b[0;34m\u001b[0m\u001b[0m\n\u001b[0m\u001b[1;32m    141\u001b[0m         \u001b[0mself\u001b[0m\u001b[0;34m.\u001b[0m\u001b[0mtags\u001b[0m\u001b[0;34m[\u001b[0m\u001b[0m_EVENT\u001b[0m\u001b[0;34m]\u001b[0m \u001b[0;34m=\u001b[0m \u001b[0mevent\u001b[0m\u001b[0;34m\u001b[0m\u001b[0;34m\u001b[0m\u001b[0m\n\u001b[1;32m    142\u001b[0m         \u001b[0;32mif\u001b[0m \u001b[0mutilities\u001b[0m \u001b[0;32mis\u001b[0m \u001b[0;32mNone\u001b[0m\u001b[0;34m:\u001b[0m\u001b[0;34m\u001b[0m\u001b[0;34m\u001b[0m\u001b[0m\n",
      "\u001b[0;32m~/.local/lib/python3.6/site-packages/fairlearn/reductions/_moments/moment.py\u001b[0m in \u001b[0;36mload_data\u001b[0;34m(self, X, y, sensitive_features)\u001b[0m\n\u001b[1;32m     42\u001b[0m         \"\"\"\n\u001b[1;32m     43\u001b[0m         \u001b[0;32massert\u001b[0m \u001b[0mself\u001b[0m\u001b[0;34m.\u001b[0m\u001b[0mdata_loaded\u001b[0m \u001b[0;32mis\u001b[0m \u001b[0;32mFalse\u001b[0m\u001b[0;34m,\u001b[0m\u001b[0;31m \u001b[0m\u001b[0;31m\\\u001b[0m\u001b[0;34m\u001b[0m\u001b[0;34m\u001b[0m\u001b[0m\n\u001b[0;32m---> 44\u001b[0;31m             \u001b[0;34m\"data can be loaded only once\"\u001b[0m\u001b[0;34m\u001b[0m\u001b[0;34m\u001b[0m\u001b[0m\n\u001b[0m\u001b[1;32m     45\u001b[0m         \u001b[0;32mif\u001b[0m \u001b[0msensitive_features\u001b[0m \u001b[0;32mis\u001b[0m \u001b[0;32mnot\u001b[0m \u001b[0;32mNone\u001b[0m\u001b[0;34m:\u001b[0m\u001b[0;34m\u001b[0m\u001b[0;34m\u001b[0m\u001b[0m\n\u001b[1;32m     46\u001b[0m             \u001b[0;32massert\u001b[0m \u001b[0misinstance\u001b[0m\u001b[0;34m(\u001b[0m\u001b[0msensitive_features\u001b[0m\u001b[0;34m,\u001b[0m \u001b[0mpd\u001b[0m\u001b[0;34m.\u001b[0m\u001b[0mSeries\u001b[0m\u001b[0;34m)\u001b[0m\u001b[0;34m\u001b[0m\u001b[0;34m\u001b[0m\u001b[0m\n",
      "\u001b[0;31mAssertionError\u001b[0m: data can be loaded only once"
     ]
    }
   ],
   "source": [
    "for m in models:\n",
    "    for d in datasets:\n",
    "        most_accurate = getMostAccurateConfig(m[0],d[0],d[1],\"mutation\")\n",
    "        if(m[1] == \"LogisticRegression\"):\n",
    "            input_program = input_program = LogisticRegression.logistic_regression\n",
    "        elif(m[1] == \"Decision_Tree_Classifier\"):\n",
    "            input_program = Decision_Tree_Classifier.DecisionTree\n",
    "        elif(m[1] == \"TreeRegressor\"):\n",
    "            input_program = TreeRegressor.TreeRegress\n",
    "        elif(m[1] == \"SVM\"):\n",
    "            input_program = SVM.SVM\n",
    "        X_train, X_test, y_train, y_test = get_data(d[0])\n",
    "        \n",
    "        # I only really need to use the parser for the most accurate 'inp'\n",
    "        # Exponentiated Gradient will retrain everything so the fit that this does will be \"wasted\"\n",
    "        _, model, _, _, _, _ = input_program(most_accurate,X_train, X_test, y_train, y_test, d[2])\n",
    "        training_model = ExponentiatedGradient(model,equalized_moment)\n",
    "        training_model.fit(X_train,y_train,sensitive_features=X_train[:,d[2]-1])\n",
    "        "
   ]
  },
  {
   "cell_type": "code",
   "execution_count": null,
   "id": "5006ba08",
   "metadata": {},
   "outputs": [],
   "source": []
  }
 ],
 "metadata": {
  "kernelspec": {
   "display_name": "Python 3",
   "language": "python",
   "name": "python3"
  },
  "language_info": {
   "codemirror_mode": {
    "name": "ipython",
    "version": 3
   },
   "file_extension": ".py",
   "mimetype": "text/x-python",
   "name": "python",
   "nbconvert_exporter": "python",
   "pygments_lexer": "ipython3",
   "version": "3.6.9"
  }
 },
 "nbformat": 4,
 "nbformat_minor": 5
}
