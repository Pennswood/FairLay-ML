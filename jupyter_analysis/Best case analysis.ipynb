{
 "cells": [
  {
   "cell_type": "code",
   "execution_count": 14,
   "metadata": {},
   "outputs": [
    {
     "ename": "FileNotFoundError",
     "evalue": "[Errno 2] No such file or directory: './jupyter_analysis'",
     "output_type": "error",
     "traceback": [
      "\u001b[0;31m---------------------------------------------------------------------------\u001b[0m",
      "\u001b[0;31mFileNotFoundError\u001b[0m                         Traceback (most recent call last)",
      "\u001b[0;32m/tmp/ipykernel_7623/1464736789.py\u001b[0m in \u001b[0;36m<module>\u001b[0;34m\u001b[0m\n\u001b[1;32m      3\u001b[0m \u001b[0mdataset\u001b[0m \u001b[0;34m=\u001b[0m \u001b[0;34m\"census\"\u001b[0m\u001b[0;34m\u001b[0m\u001b[0;34m\u001b[0m\u001b[0m\n\u001b[1;32m      4\u001b[0m \u001b[0msensitive_param\u001b[0m \u001b[0;34m=\u001b[0m \u001b[0;34m\"sex\"\u001b[0m\u001b[0;34m\u001b[0m\u001b[0;34m\u001b[0m\u001b[0m\n\u001b[0;32m----> 5\u001b[0;31m \u001b[0mos\u001b[0m\u001b[0;34m.\u001b[0m\u001b[0mchdir\u001b[0m\u001b[0;34m(\u001b[0m\u001b[0;34m'./jupyter_analysis'\u001b[0m\u001b[0;34m)\u001b[0m\u001b[0;34m\u001b[0m\u001b[0;34m\u001b[0m\u001b[0m\n\u001b[0m",
      "\u001b[0;31mFileNotFoundError\u001b[0m: [Errno 2] No such file or directory: './jupyter_analysis'"
     ]
    }
   ],
   "source": [
    "# what we are studying\n",
    "model = \"LR\"\n",
    "dataset = \"census\"\n",
    "sensitive_param = \"sex\"\n",
    "os.chdir('./jupyter_analysis')"
   ]
  },
  {
   "cell_type": "code",
   "execution_count": 15,
   "metadata": {},
   "outputs": [],
   "source": [
    "import pandas as pd\n",
    "import os"
   ]
  },
  {
   "cell_type": "code",
   "execution_count": 16,
   "metadata": {},
   "outputs": [
    {
     "data": {
      "text/html": [
       "<div>\n",
       "<style scoped>\n",
       "    .dataframe tbody tr th:only-of-type {\n",
       "        vertical-align: middle;\n",
       "    }\n",
       "\n",
       "    .dataframe tbody tr th {\n",
       "        vertical-align: top;\n",
       "    }\n",
       "\n",
       "    .dataframe thead th {\n",
       "        text-align: right;\n",
       "    }\n",
       "</style>\n",
       "<table border=\"1\" class=\"dataframe\">\n",
       "  <thead>\n",
       "    <tr style=\"text-align: right;\">\n",
       "      <th></th>\n",
       "      <th>solver</th>\n",
       "      <th>penalty</th>\n",
       "      <th>dual</th>\n",
       "      <th>tol</th>\n",
       "      <th>C</th>\n",
       "      <th>fit_intercept</th>\n",
       "      <th>intercept_scaling</th>\n",
       "      <th>max_iteration</th>\n",
       "      <th>multi_class</th>\n",
       "      <th>l1_ratio</th>\n",
       "      <th>...</th>\n",
       "      <th>verbose</th>\n",
       "      <th>warm_start</th>\n",
       "      <th>n_jobs</th>\n",
       "      <th>score</th>\n",
       "      <th>AOD</th>\n",
       "      <th>TPR</th>\n",
       "      <th>FPR</th>\n",
       "      <th>counter</th>\n",
       "      <th>timer</th>\n",
       "      <th>inp</th>\n",
       "    </tr>\n",
       "  </thead>\n",
       "  <tbody>\n",
       "    <tr>\n",
       "      <th>0</th>\n",
       "      <td>lbfgs</td>\n",
       "      <td>l2</td>\n",
       "      <td>False</td>\n",
       "      <td>0.00010</td>\n",
       "      <td>10.000000</td>\n",
       "      <td>False</td>\n",
       "      <td>1.000000</td>\n",
       "      <td>10000</td>\n",
       "      <td>ovr</td>\n",
       "      <td>NaN</td>\n",
       "      <td>...</td>\n",
       "      <td>0</td>\n",
       "      <td>False</td>\n",
       "      <td>NaN</td>\n",
       "      <td>0.805306</td>\n",
       "      <td>0.059893</td>\n",
       "      <td>0.09898</td>\n",
       "      <td>0.020807</td>\n",
       "      <td>0</td>\n",
       "      <td>0.378170</td>\n",
       "      <td>[1, 1, 0, 0.0001, 10.0, 0, 1.0, 10000, 0, 0, 0...</td>\n",
       "    </tr>\n",
       "    <tr>\n",
       "      <th>1</th>\n",
       "      <td>lbfgs</td>\n",
       "      <td>l2</td>\n",
       "      <td>False</td>\n",
       "      <td>0.00010</td>\n",
       "      <td>10.000000</td>\n",
       "      <td>False</td>\n",
       "      <td>1.000000</td>\n",
       "      <td>10000</td>\n",
       "      <td>ovr</td>\n",
       "      <td>NaN</td>\n",
       "      <td>...</td>\n",
       "      <td>0</td>\n",
       "      <td>False</td>\n",
       "      <td>NaN</td>\n",
       "      <td>0.805306</td>\n",
       "      <td>0.059893</td>\n",
       "      <td>0.09898</td>\n",
       "      <td>0.020807</td>\n",
       "      <td>1</td>\n",
       "      <td>0.640464</td>\n",
       "      <td>[1, 0, 0, 0.0001, 10.0, 0, 1.0, 10000, 0, 0, 0...</td>\n",
       "    </tr>\n",
       "    <tr>\n",
       "      <th>2</th>\n",
       "      <td>newton-cg</td>\n",
       "      <td>none</td>\n",
       "      <td>False</td>\n",
       "      <td>0.78914</td>\n",
       "      <td>47.719794</td>\n",
       "      <td>False</td>\n",
       "      <td>0.539406</td>\n",
       "      <td>10407</td>\n",
       "      <td>auto</td>\n",
       "      <td>NaN</td>\n",
       "      <td>...</td>\n",
       "      <td>0</td>\n",
       "      <td>True</td>\n",
       "      <td>NaN</td>\n",
       "      <td>0.805306</td>\n",
       "      <td>0.059893</td>\n",
       "      <td>0.09898</td>\n",
       "      <td>0.020807</td>\n",
       "      <td>2</td>\n",
       "      <td>0.825221</td>\n",
       "      <td>[0, 3, 1, 0.7891397155771552, 47.7197942928364...</td>\n",
       "    </tr>\n",
       "    <tr>\n",
       "      <th>3</th>\n",
       "      <td>lbfgs</td>\n",
       "      <td>l2</td>\n",
       "      <td>False</td>\n",
       "      <td>0.00010</td>\n",
       "      <td>10.000000</td>\n",
       "      <td>False</td>\n",
       "      <td>1.000000</td>\n",
       "      <td>10000</td>\n",
       "      <td>ovr</td>\n",
       "      <td>NaN</td>\n",
       "      <td>...</td>\n",
       "      <td>0</td>\n",
       "      <td>False</td>\n",
       "      <td>NaN</td>\n",
       "      <td>0.805306</td>\n",
       "      <td>0.059893</td>\n",
       "      <td>0.09898</td>\n",
       "      <td>0.020807</td>\n",
       "      <td>3</td>\n",
       "      <td>1.080979</td>\n",
       "      <td>[1, 0, 0, 0.0001, 10.0, 0, 1.0, 10000, 0, 0, 0...</td>\n",
       "    </tr>\n",
       "    <tr>\n",
       "      <th>4</th>\n",
       "      <td>lbfgs</td>\n",
       "      <td>l2</td>\n",
       "      <td>False</td>\n",
       "      <td>0.00010</td>\n",
       "      <td>10.000000</td>\n",
       "      <td>False</td>\n",
       "      <td>1.000000</td>\n",
       "      <td>10000</td>\n",
       "      <td>multinomial</td>\n",
       "      <td>NaN</td>\n",
       "      <td>...</td>\n",
       "      <td>0</td>\n",
       "      <td>False</td>\n",
       "      <td>NaN</td>\n",
       "      <td>0.805306</td>\n",
       "      <td>0.059893</td>\n",
       "      <td>0.09898</td>\n",
       "      <td>0.020807</td>\n",
       "      <td>4</td>\n",
       "      <td>1.603220</td>\n",
       "      <td>[1, 0, 0, 0.0001, 10.0, 0, 1.0, 10000, 1, 0, 0...</td>\n",
       "    </tr>\n",
       "  </tbody>\n",
       "</table>\n",
       "<p>5 rows × 22 columns</p>\n",
       "</div>"
      ],
      "text/plain": [
       "      solver penalty   dual      tol          C  fit_intercept  \\\n",
       "0      lbfgs      l2  False  0.00010  10.000000          False   \n",
       "1      lbfgs      l2  False  0.00010  10.000000          False   \n",
       "2  newton-cg    none  False  0.78914  47.719794          False   \n",
       "3      lbfgs      l2  False  0.00010  10.000000          False   \n",
       "4      lbfgs      l2  False  0.00010  10.000000          False   \n",
       "\n",
       "   intercept_scaling  max_iteration  multi_class  l1_ratio  ...  verbose  \\\n",
       "0           1.000000          10000          ovr       NaN  ...        0   \n",
       "1           1.000000          10000          ovr       NaN  ...        0   \n",
       "2           0.539406          10407         auto       NaN  ...        0   \n",
       "3           1.000000          10000          ovr       NaN  ...        0   \n",
       "4           1.000000          10000  multinomial       NaN  ...        0   \n",
       "\n",
       "   warm_start  n_jobs     score       AOD      TPR       FPR  counter  \\\n",
       "0       False     NaN  0.805306  0.059893  0.09898  0.020807        0   \n",
       "1       False     NaN  0.805306  0.059893  0.09898  0.020807        1   \n",
       "2        True     NaN  0.805306  0.059893  0.09898  0.020807        2   \n",
       "3       False     NaN  0.805306  0.059893  0.09898  0.020807        3   \n",
       "4       False     NaN  0.805306  0.059893  0.09898  0.020807        4   \n",
       "\n",
       "      timer                                                inp  \n",
       "0  0.378170  [1, 1, 0, 0.0001, 10.0, 0, 1.0, 10000, 0, 0, 0...  \n",
       "1  0.640464  [1, 0, 0, 0.0001, 10.0, 0, 1.0, 10000, 0, 0, 0...  \n",
       "2  0.825221  [0, 3, 1, 0.7891397155771552, 47.7197942928364...  \n",
       "3  1.080979  [1, 0, 0, 0.0001, 10.0, 0, 1.0, 10000, 0, 0, 0...  \n",
       "4  1.603220  [1, 0, 0, 0.0001, 10.0, 0, 1.0, 10000, 1, 0, 0...  \n",
       "\n",
       "[5 rows x 22 columns]"
      ]
     },
     "execution_count": 16,
     "metadata": {},
     "output_type": "execute_result"
    }
   ],
   "source": [
    "df = pd.read_csv(\"../Dataset\" + \"/\" + f\"{model}_{dataset}_{sensitive_param}_x100.csv\")\n",
    "df.head()"
   ]
  },
  {
   "cell_type": "code",
   "execution_count": 17,
   "metadata": {},
   "outputs": [
    {
     "name": "stdout",
     "output_type": "stream",
     "text": [
      "Min score: 0.7953568357695615\n",
      "Max score: 0.810711214838472\n",
      "Min AOD: 0.0045455724043264\n",
      "Max AOD: 0.2126840140268309\n"
     ]
    }
   ],
   "source": [
    "print(f\"Min score: {df['score'].min()}\")\n",
    "print(f\"Max score: {df['score'].max()}\")\n",
    "print(f\"Min AOD: {df['AOD'].min()}\")\n",
    "print(f\"Max AOD: {df['AOD'].max()}\")"
   ]
  },
  {
   "cell_type": "code",
   "execution_count": 18,
   "metadata": {},
   "outputs": [
    {
     "name": "stdout",
     "output_type": "stream",
     "text": [
      "Best AOD: solver                                                       liblinear\n",
      "penalty                                                             l2\n",
      "dual                                                              True\n",
      "tol                                                           0.594069\n",
      "C                                                            65.504002\n",
      "fit_intercept                                                    False\n",
      "intercept_scaling                                             8.778587\n",
      "max_iteration                                                    10050\n",
      "multi_class                                                       auto\n",
      "l1_ratio                                                           NaN\n",
      "class_weight                                                       NaN\n",
      "random_state                                                      2019\n",
      "verbose                                                              0\n",
      "warm_start                                                       False\n",
      "n_jobs                                                             NaN\n",
      "score                                                         0.806535\n",
      "AOD                                                           0.004546\n",
      "TPR                                                           0.000638\n",
      "FPR                                                           0.008453\n",
      "counter                                                          42674\n",
      "timer                                                     27876.180558\n",
      "inp                  [2, 1, 1, 0.5940687231770445, 65.5040019738427...\n",
      "Name: 37788, dtype: object\n",
      "Best accuracy: solver                                                       liblinear\n",
      "penalty                                                             l2\n",
      "dual                                                              True\n",
      "tol                                                           0.932612\n",
      "C                                                            17.263945\n",
      "fit_intercept                                                     True\n",
      "intercept_scaling                                              8.13287\n",
      "max_iteration                                                     9639\n",
      "multi_class                                                        ovr\n",
      "l1_ratio                                                           NaN\n",
      "class_weight                                                       NaN\n",
      "random_state                                                      2019\n",
      "verbose                                                              0\n",
      "warm_start                                                       False\n",
      "n_jobs                                                             NaN\n",
      "score                                                         0.795357\n",
      "AOD                                                           0.212684\n",
      "TPR                                                           0.248518\n",
      "FPR                                                            0.17685\n",
      "counter                                                           6840\n",
      "timer                                                      5060.601025\n",
      "inp                  [2, 1, 1, 0.9326118014231806, 17.2639447973803...\n",
      "Name: 6198, dtype: object\n"
     ]
    }
   ],
   "source": [
    "print(f\"Best AOD: {df[df['AOD'] == df['AOD'].min()].iloc[0]}\")\n",
    "print(f\"Best accuracy: {df[df['score'] == df['score'].min()].iloc[0]}\")"
   ]
  },
  {
   "cell_type": "markdown",
   "metadata": {},
   "source": [
    "## Recreating the best model"
   ]
  },
  {
   "cell_type": "code",
   "execution_count": 19,
   "metadata": {},
   "outputs": [],
   "source": [
    "import ast\n",
    "import sys\n",
    "sys.path.append(\"../subjects/\")\n",
    "\n",
    "import numpy as np\n",
    "import LogisticRegression\n",
    "from sklearn.model_selection import train_test_split\n",
    "from adf_data.census import census_data\n",
    "from adf_data.credit import credit_data\n",
    "from adf_data.bank import bank_data\n",
    "from adf_data.compas import compas_data\n",
    "os.chdir('../')"
   ]
  },
  {
   "cell_type": "code",
   "execution_count": 20,
   "metadata": {},
   "outputs": [],
   "source": [
    "inp = ast.literal_eval(df[df['AOD'] == df['AOD'].min()].iloc[0][\"inp\"])\n",
    "data = {\"census\":census_data, \"credit\":credit_data, \"bank\":bank_data, \"compas\": compas_data}\n",
    "X, Y, input_shape, nb_classes = data[dataset]()\n",
    "Y = np.argmax(Y, axis=1)\n",
    "X_train, X_test, y_train, y_test = train_test_split(X, Y, random_state=0)"
   ]
  },
  {
   "cell_type": "code",
   "execution_count": 21,
   "metadata": {},
   "outputs": [
    {
     "name": "stdout",
     "output_type": "stream",
     "text": [
      "[2, 1, 1, 0.5940687231770445, 65.50400197384276, 0, 8.77858740660061, 10050, 2, 1, 1, 0, 0, 0, 0]\n",
      "['liblinear', 'l2', True, 0.5940687231770445, 65.50400197384276, False, 8.77858740660061, 10050, 'auto', 'rand', 'balanced', 'None', 0, False, 'None']\n",
      "['liblinear', 'l2', True, 0.5940687231770445, 65.50400197384276, False, 8.77858740660061, 10050, 'auto', None, None, 2019, 0, False, None]\n"
     ]
    },
    {
     "name": "stderr",
     "output_type": "stream",
     "text": [
      "/home/normenyu/anaconda3/lib/python3.9/site-packages/sklearn/svm/_base.py:985: ConvergenceWarning: Liblinear failed to converge, increase the number of iterations.\n",
      "  warnings.warn(\"Liblinear failed to converge, increase \"\n"
     ]
    },
    {
     "data": {
      "text/plain": [
       "(True,\n",
       " LogisticRegression(C=65.50400197384276, dual=True, fit_intercept=False,\n",
       "                    intercept_scaling=8.77858740660061, max_iter=10050,\n",
       "                    random_state=2019, solver='liblinear',\n",
       "                    tol=0.5940687231770445),\n",
       " ['liblinear',\n",
       "  'l2',\n",
       "  True,\n",
       "  0.5940687231770445,\n",
       "  65.50400197384276,\n",
       "  False,\n",
       "  8.77858740660061,\n",
       "  10050,\n",
       "  'auto',\n",
       "  None,\n",
       "  None,\n",
       "  2019,\n",
       "  0,\n",
       "  False,\n",
       "  None],\n",
       " 0.8065348237317282,\n",
       " array([0, 0, 0, ..., 0, 0, 0]),\n",
       " ['solver',\n",
       "  'penalty',\n",
       "  'dual',\n",
       "  'tol',\n",
       "  'C',\n",
       "  'fit_intercept',\n",
       "  'intercept_scaling',\n",
       "  'max_iteration',\n",
       "  'multi_class',\n",
       "  'l1_ratio',\n",
       "  'class_weight',\n",
       "  'random_state',\n",
       "  'verbose',\n",
       "  'warm_start',\n",
       "  'n_jobs'])"
      ]
     },
     "execution_count": 21,
     "metadata": {},
     "output_type": "execute_result"
    }
   ],
   "source": [
    "LogisticRegression.logistic_regression(inp, X_train, X_test, y_train, y_test, sensitive_param, dataset_name=dataset, save_model=True)"
   ]
  },
  {
   "cell_type": "markdown",
   "metadata": {},
   "source": [
    "### The most fair model has the following coeficients"
   ]
  },
  {
   "cell_type": "code",
   "execution_count": 22,
   "metadata": {},
   "outputs": [
    {
     "name": "stdout",
     "output_type": "stream",
     "text": [
      "[[ 0.08574622  0.06388331 -0.02715659 -0.02135337 -1.12969418 -0.11284579\n",
      "  -0.42472817 -0.14201319  0.04904803  0.46023246  0.15396227  0.0054096\n",
      "  -0.01666468]]\n",
      "0.0\n",
      "[10050]\n"
     ]
    }
   ],
   "source": [
    "import pickle as pk\n",
    "with open(\"./trained_models/logisticRegression_census_sex_liblinear_l2_True_0.5940687231770445_65.50400197384276_False_8.77858740660061_10050            _auto_None_None_2019_0_False_None.pkl\", \"rb\") as model_file:\n",
    "    model = pk.load(model_file)\n",
    "    print(model.coef_)\n",
    "    print(model.intercept_)\n",
    "    print(model.n_iter_)"
   ]
  },
  {
   "cell_type": "code",
   "execution_count": 23,
   "metadata": {},
   "outputs": [
    {
     "name": "stdout",
     "output_type": "stream",
     "text": [
      "[2, 1, 1, 0.9769791568842524, 37.917604087606755, 1, 6.512768585723584, 9774, 1, 0, 0, 0, 1, 0, 0]\n",
      "['liblinear', 'l2', True, 0.9769791568842524, 37.917604087606755, True, 6.512768585723584, 9774, 'multinomial', 'none', 'None', 'None', 1, False, 'None']\n",
      "['liblinear', 'l2', True, 0.9769791568842524, 37.917604087606755, True, 6.512768585723584, 9774, 'ovr', None, None, 2019, 0, False, None]\n"
     ]
    },
    {
     "name": "stderr",
     "output_type": "stream",
     "text": [
      "/home/normenyu/anaconda3/lib/python3.9/site-packages/sklearn/svm/_base.py:985: ConvergenceWarning: Liblinear failed to converge, increase the number of iterations.\n",
      "  warnings.warn(\"Liblinear failed to converge, increase \"\n"
     ]
    },
    {
     "data": {
      "text/plain": [
       "(True,\n",
       " LogisticRegression(C=37.917604087606755, dual=True,\n",
       "                    intercept_scaling=6.512768585723584, max_iter=9774,\n",
       "                    multi_class='ovr', random_state=2019, solver='liblinear',\n",
       "                    tol=0.9769791568842524),\n",
       " ['liblinear',\n",
       "  'l2',\n",
       "  True,\n",
       "  0.9769791568842524,\n",
       "  37.917604087606755,\n",
       "  True,\n",
       "  6.512768585723584,\n",
       "  9774,\n",
       "  'ovr',\n",
       "  None,\n",
       "  None,\n",
       "  2019,\n",
       "  0,\n",
       "  False,\n",
       "  None],\n",
       " 0.810711214838472,\n",
       " array([0, 0, 0, ..., 0, 0, 0]),\n",
       " ['solver',\n",
       "  'penalty',\n",
       "  'dual',\n",
       "  'tol',\n",
       "  'C',\n",
       "  'fit_intercept',\n",
       "  'intercept_scaling',\n",
       "  'max_iteration',\n",
       "  'multi_class',\n",
       "  'l1_ratio',\n",
       "  'class_weight',\n",
       "  'random_state',\n",
       "  'verbose',\n",
       "  'warm_start',\n",
       "  'n_jobs'])"
      ]
     },
     "execution_count": 23,
     "metadata": {},
     "output_type": "execute_result"
    }
   ],
   "source": [
    "inp = ast.literal_eval(df[df['score'] == df['score'].max()].iloc[0][\"inp\"])\n",
    "LogisticRegression.logistic_regression(inp, X_train, X_test, y_train, y_test, sensitive_param, dataset_name=dataset, save_model=True)"
   ]
  },
  {
   "cell_type": "code",
   "execution_count": 25,
   "metadata": {},
   "outputs": [
    {
     "data": {
      "text/html": [
       "<div>\n",
       "<style scoped>\n",
       "    .dataframe tbody tr th:only-of-type {\n",
       "        vertical-align: middle;\n",
       "    }\n",
       "\n",
       "    .dataframe tbody tr th {\n",
       "        vertical-align: top;\n",
       "    }\n",
       "\n",
       "    .dataframe thead th {\n",
       "        text-align: right;\n",
       "    }\n",
       "</style>\n",
       "<table border=\"1\" class=\"dataframe\">\n",
       "  <thead>\n",
       "    <tr style=\"text-align: right;\">\n",
       "      <th></th>\n",
       "      <th>solver</th>\n",
       "      <th>penalty</th>\n",
       "      <th>dual</th>\n",
       "      <th>tol</th>\n",
       "      <th>C</th>\n",
       "      <th>fit_intercept</th>\n",
       "      <th>intercept_scaling</th>\n",
       "      <th>max_iteration</th>\n",
       "      <th>multi_class</th>\n",
       "      <th>l1_ratio</th>\n",
       "      <th>...</th>\n",
       "      <th>verbose</th>\n",
       "      <th>warm_start</th>\n",
       "      <th>n_jobs</th>\n",
       "      <th>score</th>\n",
       "      <th>AOD</th>\n",
       "      <th>TPR</th>\n",
       "      <th>FPR</th>\n",
       "      <th>counter</th>\n",
       "      <th>timer</th>\n",
       "      <th>inp</th>\n",
       "    </tr>\n",
       "  </thead>\n",
       "  <tbody>\n",
       "    <tr>\n",
       "      <th>1180</th>\n",
       "      <td>liblinear</td>\n",
       "      <td>l2</td>\n",
       "      <td>True</td>\n",
       "      <td>0.976979</td>\n",
       "      <td>37.917604</td>\n",
       "      <td>True</td>\n",
       "      <td>6.512769</td>\n",
       "      <td>9774</td>\n",
       "      <td>ovr</td>\n",
       "      <td>NaN</td>\n",
       "      <td>...</td>\n",
       "      <td>0</td>\n",
       "      <td>False</td>\n",
       "      <td>NaN</td>\n",
       "      <td>0.810711</td>\n",
       "      <td>0.044393</td>\n",
       "      <td>0.064366</td>\n",
       "      <td>0.024419</td>\n",
       "      <td>1312</td>\n",
       "      <td>1380.451135</td>\n",
       "      <td>[2, 1, 1, 0.9769791568842524, 37.9176040876067...</td>\n",
       "    </tr>\n",
       "  </tbody>\n",
       "</table>\n",
       "<p>1 rows × 22 columns</p>\n",
       "</div>"
      ],
      "text/plain": [
       "         solver penalty  dual       tol          C  fit_intercept  \\\n",
       "1180  liblinear      l2  True  0.976979  37.917604           True   \n",
       "\n",
       "      intercept_scaling  max_iteration multi_class  l1_ratio  ...  verbose  \\\n",
       "1180           6.512769           9774         ovr       NaN  ...        0   \n",
       "\n",
       "      warm_start  n_jobs     score       AOD       TPR       FPR  counter  \\\n",
       "1180       False     NaN  0.810711  0.044393  0.064366  0.024419     1312   \n",
       "\n",
       "            timer                                                inp  \n",
       "1180  1380.451135  [2, 1, 1, 0.9769791568842524, 37.9176040876067...  \n",
       "\n",
       "[1 rows x 22 columns]"
      ]
     },
     "execution_count": 25,
     "metadata": {},
     "output_type": "execute_result"
    }
   ],
   "source": [
    "df[df['score'] == df['score'].max()].iloc[0]"
   ]
  },
  {
   "cell_type": "markdown",
   "metadata": {},
   "source": [
    "### The most accurate model has the following coeficients"
   ]
  },
  {
   "cell_type": "code",
   "execution_count": 15,
   "metadata": {},
   "outputs": [
    {
     "name": "stdout",
     "output_type": "stream",
     "text": [
      "[[ 0.08574622  0.06388331 -0.02715659 -0.02135337 -1.12969418 -0.11284579\n",
      "  -0.42472817 -0.14201319  0.04904803  0.46023246  0.15396227  0.0054096\n",
      "  -0.01666468]]\n",
      "0.0\n",
      "[10050]\n",
      "0.8065348237317282\n"
     ]
    }
   ],
   "source": [
    "with open(\"./trained_models/logisticRegression_census_sex_liblinear_l2_True_0.5940687231770445_65.50400197384276_False_8.77858740660061_10050            _auto_None_None_2019_0_False_None.pkl\", \"rb\") as model_file:\n",
    "    model = pk.load(model_file)\n",
    "    print(model.coef_)\n",
    "    print(model.intercept_)\n",
    "    print(model.n_iter_)\n",
    "    print(model.score(X_test,y_test))"
   ]
  },
  {
   "cell_type": "code",
   "execution_count": 14,
   "metadata": {},
   "outputs": [
    {
     "data": {
      "text/plain": [
       "1180    0.044393\n",
       "Name: AOD, dtype: float64"
      ]
     },
     "execution_count": 14,
     "metadata": {},
     "output_type": "execute_result"
    }
   ],
   "source": [
    "df[df['score'] == df['score'].max()][\"AOD\"]"
   ]
  },
  {
   "cell_type": "code",
   "execution_count": null,
   "metadata": {},
   "outputs": [],
   "source": []
  }
 ],
 "metadata": {
  "anaconda-cloud": {},
  "kernelspec": {
   "display_name": "Python 3 (ipykernel)",
   "language": "python",
   "name": "python3"
  },
  "language_info": {
   "codemirror_mode": {
    "name": "ipython",
    "version": 3
   },
   "file_extension": ".py",
   "mimetype": "text/x-python",
   "name": "python",
   "nbconvert_exporter": "python",
   "pygments_lexer": "ipython3",
   "version": "3.9.7"
  }
 },
 "nbformat": 4,
 "nbformat_minor": 1
}
